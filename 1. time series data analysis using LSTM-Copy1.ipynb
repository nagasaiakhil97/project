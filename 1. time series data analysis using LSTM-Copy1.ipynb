{
 "cells": [
  {
   "cell_type": "code",
   "execution_count": 1,
   "metadata": {
    "_cell_guid": "7b27c994-a143-422a-a8cc-51e6a1a688d3",
    "_uuid": "4e690c4a961b9475a93164720c7aeaab99fe7061"
   },
   "outputs": [
    {
     "name": "stderr",
     "output_type": "stream",
     "text": [
      "Using TensorFlow backend.\n"
     ]
    }
   ],
   "source": [
    "# Let`s import all packages that we may need:\n",
    "\n",
    "import sys \n",
    "import numpy as np # linear algebra\n",
    "from scipy.stats import randint\n",
    "import pandas as pd # data processing, CSV file I/O (e.g. pd.read_csv), data manipulation as in SQL\n",
    "import matplotlib.pyplot as plt # this is used for the plot the graph \n",
    "import seaborn as sns # used for plot interactive graph. \n",
    "from sklearn.model_selection import train_test_split # to split the data into two parts\n",
    "\n",
    "from sklearn.preprocessing import StandardScaler # for normalization\n",
    "from sklearn.preprocessing import MinMaxScaler\n",
    "from sklearn.pipeline import Pipeline # pipeline making\n",
    "from sklearn.model_selection import cross_val_score\n",
    "from sklearn.feature_selection import SelectFromModel\n",
    "from sklearn import metrics # for the check the error and accuracy of the model\n",
    "from sklearn.metrics import mean_squared_error,r2_score\n",
    "\n",
    "## for Deep-learing:\n",
    "import keras\n",
    "from keras.layers import Dense\n",
    "from keras.models import Sequential\n",
    "from keras.utils import to_categorical\n",
    "from keras.optimizers import SGD \n",
    "from keras.callbacks import EarlyStopping\n",
    "from keras.utils import np_utils\n",
    "import itertools\n",
    "from keras.layers import LSTM\n",
    "from keras.layers.convolutional import Conv1D\n",
    "from keras.layers.convolutional import MaxPooling1D\n",
    "from keras.layers import Dropout"
   ]
  },
  {
   "cell_type": "code",
   "execution_count": 3,
   "metadata": {
    "_cell_guid": "3b7223da-4278-4fa5-add9-8e238facc74a",
    "_uuid": "7ef91d05da654a56aaccb166dfa30d50cae2fb86"
   },
   "outputs": [],
   "source": [
    "df = pd.read_csv('HomeC.csv',low_memory=False)"
   ]
  },
  {
   "cell_type": "code",
   "execution_count": 4,
   "metadata": {
    "_cell_guid": "e4be7beb-bed9-45ae-8f7b-5fed896f26e6",
    "_uuid": "bbcddeb8ff813f822725d7c73ceeee9e497a4f06"
   },
   "outputs": [
    {
     "data": {
      "text/html": [
       "<div>\n",
       "<style scoped>\n",
       "    .dataframe tbody tr th:only-of-type {\n",
       "        vertical-align: middle;\n",
       "    }\n",
       "\n",
       "    .dataframe tbody tr th {\n",
       "        vertical-align: top;\n",
       "    }\n",
       "\n",
       "    .dataframe thead th {\n",
       "        text-align: right;\n",
       "    }\n",
       "</style>\n",
       "<table border=\"1\" class=\"dataframe\">\n",
       "  <thead>\n",
       "    <tr style=\"text-align: right;\">\n",
       "      <th></th>\n",
       "      <th>time</th>\n",
       "      <th>use [kW]</th>\n",
       "      <th>gen [kW]</th>\n",
       "      <th>House overall [kW]</th>\n",
       "      <th>Dishwasher [kW]</th>\n",
       "      <th>Furnace 1 [kW]</th>\n",
       "      <th>Furnace 2 [kW]</th>\n",
       "      <th>Home office [kW]</th>\n",
       "      <th>Fridge [kW]</th>\n",
       "      <th>Wine cellar [kW]</th>\n",
       "      <th>...</th>\n",
       "      <th>visibility</th>\n",
       "      <th>summary</th>\n",
       "      <th>apparentTemperature</th>\n",
       "      <th>pressure</th>\n",
       "      <th>windSpeed</th>\n",
       "      <th>cloudCover</th>\n",
       "      <th>windBearing</th>\n",
       "      <th>precipIntensity</th>\n",
       "      <th>dewPoint</th>\n",
       "      <th>precipProbability</th>\n",
       "    </tr>\n",
       "  </thead>\n",
       "  <tbody>\n",
       "    <tr>\n",
       "      <td>0</td>\n",
       "      <td>1451624400</td>\n",
       "      <td>0.932833</td>\n",
       "      <td>0.003483</td>\n",
       "      <td>0.932833</td>\n",
       "      <td>0.000033</td>\n",
       "      <td>0.020700</td>\n",
       "      <td>0.061917</td>\n",
       "      <td>0.442633</td>\n",
       "      <td>0.124150</td>\n",
       "      <td>0.006983</td>\n",
       "      <td>...</td>\n",
       "      <td>10.0</td>\n",
       "      <td>Clear</td>\n",
       "      <td>29.26</td>\n",
       "      <td>1016.91</td>\n",
       "      <td>9.18</td>\n",
       "      <td>cloudCover</td>\n",
       "      <td>282.0</td>\n",
       "      <td>0.0</td>\n",
       "      <td>24.4</td>\n",
       "      <td>0.0</td>\n",
       "    </tr>\n",
       "    <tr>\n",
       "      <td>1</td>\n",
       "      <td>1451624401</td>\n",
       "      <td>0.934333</td>\n",
       "      <td>0.003467</td>\n",
       "      <td>0.934333</td>\n",
       "      <td>0.000000</td>\n",
       "      <td>0.020717</td>\n",
       "      <td>0.063817</td>\n",
       "      <td>0.444067</td>\n",
       "      <td>0.124000</td>\n",
       "      <td>0.006983</td>\n",
       "      <td>...</td>\n",
       "      <td>10.0</td>\n",
       "      <td>Clear</td>\n",
       "      <td>29.26</td>\n",
       "      <td>1016.91</td>\n",
       "      <td>9.18</td>\n",
       "      <td>cloudCover</td>\n",
       "      <td>282.0</td>\n",
       "      <td>0.0</td>\n",
       "      <td>24.4</td>\n",
       "      <td>0.0</td>\n",
       "    </tr>\n",
       "    <tr>\n",
       "      <td>2</td>\n",
       "      <td>1451624402</td>\n",
       "      <td>0.931817</td>\n",
       "      <td>0.003467</td>\n",
       "      <td>0.931817</td>\n",
       "      <td>0.000017</td>\n",
       "      <td>0.020700</td>\n",
       "      <td>0.062317</td>\n",
       "      <td>0.446067</td>\n",
       "      <td>0.123533</td>\n",
       "      <td>0.006983</td>\n",
       "      <td>...</td>\n",
       "      <td>10.0</td>\n",
       "      <td>Clear</td>\n",
       "      <td>29.26</td>\n",
       "      <td>1016.91</td>\n",
       "      <td>9.18</td>\n",
       "      <td>cloudCover</td>\n",
       "      <td>282.0</td>\n",
       "      <td>0.0</td>\n",
       "      <td>24.4</td>\n",
       "      <td>0.0</td>\n",
       "    </tr>\n",
       "    <tr>\n",
       "      <td>3</td>\n",
       "      <td>1451624403</td>\n",
       "      <td>1.022050</td>\n",
       "      <td>0.003483</td>\n",
       "      <td>1.022050</td>\n",
       "      <td>0.000017</td>\n",
       "      <td>0.106900</td>\n",
       "      <td>0.068517</td>\n",
       "      <td>0.446583</td>\n",
       "      <td>0.123133</td>\n",
       "      <td>0.006983</td>\n",
       "      <td>...</td>\n",
       "      <td>10.0</td>\n",
       "      <td>Clear</td>\n",
       "      <td>29.26</td>\n",
       "      <td>1016.91</td>\n",
       "      <td>9.18</td>\n",
       "      <td>cloudCover</td>\n",
       "      <td>282.0</td>\n",
       "      <td>0.0</td>\n",
       "      <td>24.4</td>\n",
       "      <td>0.0</td>\n",
       "    </tr>\n",
       "    <tr>\n",
       "      <td>4</td>\n",
       "      <td>1451624404</td>\n",
       "      <td>1.139400</td>\n",
       "      <td>0.003467</td>\n",
       "      <td>1.139400</td>\n",
       "      <td>0.000133</td>\n",
       "      <td>0.236933</td>\n",
       "      <td>0.063983</td>\n",
       "      <td>0.446533</td>\n",
       "      <td>0.122850</td>\n",
       "      <td>0.006850</td>\n",
       "      <td>...</td>\n",
       "      <td>10.0</td>\n",
       "      <td>Clear</td>\n",
       "      <td>29.26</td>\n",
       "      <td>1016.91</td>\n",
       "      <td>9.18</td>\n",
       "      <td>cloudCover</td>\n",
       "      <td>282.0</td>\n",
       "      <td>0.0</td>\n",
       "      <td>24.4</td>\n",
       "      <td>0.0</td>\n",
       "    </tr>\n",
       "  </tbody>\n",
       "</table>\n",
       "<p>5 rows × 32 columns</p>\n",
       "</div>"
      ],
      "text/plain": [
       "         time  use [kW]  gen [kW]  House overall [kW]  Dishwasher [kW]  \\\n",
       "0  1451624400  0.932833  0.003483            0.932833         0.000033   \n",
       "1  1451624401  0.934333  0.003467            0.934333         0.000000   \n",
       "2  1451624402  0.931817  0.003467            0.931817         0.000017   \n",
       "3  1451624403  1.022050  0.003483            1.022050         0.000017   \n",
       "4  1451624404  1.139400  0.003467            1.139400         0.000133   \n",
       "\n",
       "   Furnace 1 [kW]  Furnace 2 [kW]  Home office [kW]  Fridge [kW]  \\\n",
       "0        0.020700        0.061917          0.442633     0.124150   \n",
       "1        0.020717        0.063817          0.444067     0.124000   \n",
       "2        0.020700        0.062317          0.446067     0.123533   \n",
       "3        0.106900        0.068517          0.446583     0.123133   \n",
       "4        0.236933        0.063983          0.446533     0.122850   \n",
       "\n",
       "   Wine cellar [kW]  ...  visibility  summary  apparentTemperature  pressure  \\\n",
       "0          0.006983  ...        10.0    Clear                29.26   1016.91   \n",
       "1          0.006983  ...        10.0    Clear                29.26   1016.91   \n",
       "2          0.006983  ...        10.0    Clear                29.26   1016.91   \n",
       "3          0.006983  ...        10.0    Clear                29.26   1016.91   \n",
       "4          0.006850  ...        10.0    Clear                29.26   1016.91   \n",
       "\n",
       "   windSpeed  cloudCover  windBearing  precipIntensity  dewPoint  \\\n",
       "0       9.18  cloudCover        282.0              0.0      24.4   \n",
       "1       9.18  cloudCover        282.0              0.0      24.4   \n",
       "2       9.18  cloudCover        282.0              0.0      24.4   \n",
       "3       9.18  cloudCover        282.0              0.0      24.4   \n",
       "4       9.18  cloudCover        282.0              0.0      24.4   \n",
       "\n",
       "   precipProbability  \n",
       "0                0.0  \n",
       "1                0.0  \n",
       "2                0.0  \n",
       "3                0.0  \n",
       "4                0.0  \n",
       "\n",
       "[5 rows x 32 columns]"
      ]
     },
     "execution_count": 4,
     "metadata": {},
     "output_type": "execute_result"
    }
   ],
   "source": [
    "df.head() "
   ]
  },
  {
   "cell_type": "code",
   "execution_count": 5,
   "metadata": {
    "_cell_guid": "76a8cf19-7cfd-4b46-b508-200ead2cafc3",
    "_uuid": "11872f6f01ded0e63e9a32e82acc280860c5a15d"
   },
   "outputs": [
    {
     "name": "stdout",
     "output_type": "stream",
     "text": [
      "<class 'pandas.core.frame.DataFrame'>\n",
      "RangeIndex: 503911 entries, 0 to 503910\n",
      "Data columns (total 32 columns):\n",
      "time                   503911 non-null object\n",
      "use [kW]               503910 non-null float64\n",
      "gen [kW]               503910 non-null float64\n",
      "House overall [kW]     503910 non-null float64\n",
      "Dishwasher [kW]        503910 non-null float64\n",
      "Furnace 1 [kW]         503910 non-null float64\n",
      "Furnace 2 [kW]         503910 non-null float64\n",
      "Home office [kW]       503910 non-null float64\n",
      "Fridge [kW]            503910 non-null float64\n",
      "Wine cellar [kW]       503910 non-null float64\n",
      "Garage door [kW]       503910 non-null float64\n",
      "Kitchen 12 [kW]        503910 non-null float64\n",
      "Kitchen 14 [kW]        503910 non-null float64\n",
      "Kitchen 38 [kW]        503910 non-null float64\n",
      "Barn [kW]              503910 non-null float64\n",
      "Well [kW]              503910 non-null float64\n",
      "Microwave [kW]         503910 non-null float64\n",
      "Living room [kW]       503910 non-null float64\n",
      "Solar [kW]             503910 non-null float64\n",
      "temperature            503910 non-null float64\n",
      "icon                   503910 non-null object\n",
      "humidity               503910 non-null float64\n",
      "visibility             503910 non-null float64\n",
      "summary                503910 non-null object\n",
      "apparentTemperature    503910 non-null float64\n",
      "pressure               503910 non-null float64\n",
      "windSpeed              503910 non-null float64\n",
      "cloudCover             503910 non-null object\n",
      "windBearing            503910 non-null float64\n",
      "precipIntensity        503910 non-null float64\n",
      "dewPoint               503910 non-null float64\n",
      "precipProbability      503910 non-null float64\n",
      "dtypes: float64(28), object(4)\n",
      "memory usage: 123.0+ MB\n"
     ]
    }
   ],
   "source": [
    "df.info()"
   ]
  },
  {
   "cell_type": "code",
   "execution_count": 6,
   "metadata": {
    "_cell_guid": "a26765e3-2ac8-441a-a3d8-ff32ef5c80a0",
    "_uuid": "cfbb517b90839c772001575bb5636053db10159f"
   },
   "outputs": [
    {
     "data": {
      "text/plain": [
       "time                    object\n",
       "use [kW]               float64\n",
       "gen [kW]               float64\n",
       "House overall [kW]     float64\n",
       "Dishwasher [kW]        float64\n",
       "Furnace 1 [kW]         float64\n",
       "Furnace 2 [kW]         float64\n",
       "Home office [kW]       float64\n",
       "Fridge [kW]            float64\n",
       "Wine cellar [kW]       float64\n",
       "Garage door [kW]       float64\n",
       "Kitchen 12 [kW]        float64\n",
       "Kitchen 14 [kW]        float64\n",
       "Kitchen 38 [kW]        float64\n",
       "Barn [kW]              float64\n",
       "Well [kW]              float64\n",
       "Microwave [kW]         float64\n",
       "Living room [kW]       float64\n",
       "Solar [kW]             float64\n",
       "temperature            float64\n",
       "icon                    object\n",
       "humidity               float64\n",
       "visibility             float64\n",
       "summary                 object\n",
       "apparentTemperature    float64\n",
       "pressure               float64\n",
       "windSpeed              float64\n",
       "cloudCover              object\n",
       "windBearing            float64\n",
       "precipIntensity        float64\n",
       "dewPoint               float64\n",
       "precipProbability      float64\n",
       "dtype: object"
      ]
     },
     "execution_count": 6,
     "metadata": {},
     "output_type": "execute_result"
    }
   ],
   "source": [
    "df.dtypes"
   ]
  },
  {
   "cell_type": "code",
   "execution_count": 7,
   "metadata": {
    "_cell_guid": "5eddbf54-4dd0-49d1-af1f-4d6a97275247",
    "_uuid": "a0e9aa33b5f6231b67cfce24445fbd795190fd42"
   },
   "outputs": [
    {
     "data": {
      "text/plain": [
       "(503911, 32)"
      ]
     },
     "execution_count": 7,
     "metadata": {},
     "output_type": "execute_result"
    }
   ],
   "source": [
    "df.shape"
   ]
  },
  {
   "cell_type": "code",
   "execution_count": 8,
   "metadata": {
    "_cell_guid": "234d0be9-5117-40f6-93d8-8c4f425f1926",
    "_uuid": "e4c89c0f6b3e00baa511d2b611079d6a00648c83"
   },
   "outputs": [
    {
     "data": {
      "text/html": [
       "<div>\n",
       "<style scoped>\n",
       "    .dataframe tbody tr th:only-of-type {\n",
       "        vertical-align: middle;\n",
       "    }\n",
       "\n",
       "    .dataframe tbody tr th {\n",
       "        vertical-align: top;\n",
       "    }\n",
       "\n",
       "    .dataframe thead th {\n",
       "        text-align: right;\n",
       "    }\n",
       "</style>\n",
       "<table border=\"1\" class=\"dataframe\">\n",
       "  <thead>\n",
       "    <tr style=\"text-align: right;\">\n",
       "      <th></th>\n",
       "      <th>use [kW]</th>\n",
       "      <th>gen [kW]</th>\n",
       "      <th>House overall [kW]</th>\n",
       "      <th>Dishwasher [kW]</th>\n",
       "      <th>Furnace 1 [kW]</th>\n",
       "      <th>Furnace 2 [kW]</th>\n",
       "      <th>Home office [kW]</th>\n",
       "      <th>Fridge [kW]</th>\n",
       "      <th>Wine cellar [kW]</th>\n",
       "      <th>Garage door [kW]</th>\n",
       "      <th>...</th>\n",
       "      <th>temperature</th>\n",
       "      <th>humidity</th>\n",
       "      <th>visibility</th>\n",
       "      <th>apparentTemperature</th>\n",
       "      <th>pressure</th>\n",
       "      <th>windSpeed</th>\n",
       "      <th>windBearing</th>\n",
       "      <th>precipIntensity</th>\n",
       "      <th>dewPoint</th>\n",
       "      <th>precipProbability</th>\n",
       "    </tr>\n",
       "  </thead>\n",
       "  <tbody>\n",
       "    <tr>\n",
       "      <td>count</td>\n",
       "      <td>503910.000000</td>\n",
       "      <td>503910.000000</td>\n",
       "      <td>503910.000000</td>\n",
       "      <td>503910.000000</td>\n",
       "      <td>503910.000000</td>\n",
       "      <td>503910.000000</td>\n",
       "      <td>503910.000000</td>\n",
       "      <td>503910.000000</td>\n",
       "      <td>503910.000000</td>\n",
       "      <td>503910.000000</td>\n",
       "      <td>...</td>\n",
       "      <td>503910.000000</td>\n",
       "      <td>503910.000000</td>\n",
       "      <td>503910.000000</td>\n",
       "      <td>503910.000000</td>\n",
       "      <td>503910.000000</td>\n",
       "      <td>503910.000000</td>\n",
       "      <td>503910.000000</td>\n",
       "      <td>503910.000000</td>\n",
       "      <td>503910.000000</td>\n",
       "      <td>503910.000000</td>\n",
       "    </tr>\n",
       "    <tr>\n",
       "      <td>mean</td>\n",
       "      <td>0.858962</td>\n",
       "      <td>0.076229</td>\n",
       "      <td>0.858962</td>\n",
       "      <td>0.031368</td>\n",
       "      <td>0.099210</td>\n",
       "      <td>0.136779</td>\n",
       "      <td>0.081287</td>\n",
       "      <td>0.063556</td>\n",
       "      <td>0.042137</td>\n",
       "      <td>0.014139</td>\n",
       "      <td>...</td>\n",
       "      <td>50.741935</td>\n",
       "      <td>0.664085</td>\n",
       "      <td>9.253444</td>\n",
       "      <td>48.263382</td>\n",
       "      <td>1016.301625</td>\n",
       "      <td>6.649936</td>\n",
       "      <td>202.356843</td>\n",
       "      <td>0.002598</td>\n",
       "      <td>38.694013</td>\n",
       "      <td>0.056453</td>\n",
       "    </tr>\n",
       "    <tr>\n",
       "      <td>std</td>\n",
       "      <td>1.058207</td>\n",
       "      <td>0.128428</td>\n",
       "      <td>1.058207</td>\n",
       "      <td>0.190951</td>\n",
       "      <td>0.169059</td>\n",
       "      <td>0.178631</td>\n",
       "      <td>0.104466</td>\n",
       "      <td>0.076199</td>\n",
       "      <td>0.057967</td>\n",
       "      <td>0.014292</td>\n",
       "      <td>...</td>\n",
       "      <td>19.113807</td>\n",
       "      <td>0.194389</td>\n",
       "      <td>1.611186</td>\n",
       "      <td>22.027916</td>\n",
       "      <td>7.895185</td>\n",
       "      <td>3.982716</td>\n",
       "      <td>106.520474</td>\n",
       "      <td>0.011257</td>\n",
       "      <td>19.087939</td>\n",
       "      <td>0.165836</td>\n",
       "    </tr>\n",
       "    <tr>\n",
       "      <td>min</td>\n",
       "      <td>0.000000</td>\n",
       "      <td>0.000000</td>\n",
       "      <td>0.000000</td>\n",
       "      <td>0.000000</td>\n",
       "      <td>0.000017</td>\n",
       "      <td>0.000067</td>\n",
       "      <td>0.000083</td>\n",
       "      <td>0.000067</td>\n",
       "      <td>0.000017</td>\n",
       "      <td>0.000017</td>\n",
       "      <td>...</td>\n",
       "      <td>-12.640000</td>\n",
       "      <td>0.130000</td>\n",
       "      <td>0.270000</td>\n",
       "      <td>-32.080000</td>\n",
       "      <td>986.400000</td>\n",
       "      <td>0.000000</td>\n",
       "      <td>0.000000</td>\n",
       "      <td>0.000000</td>\n",
       "      <td>-27.240000</td>\n",
       "      <td>0.000000</td>\n",
       "    </tr>\n",
       "    <tr>\n",
       "      <td>25%</td>\n",
       "      <td>0.367667</td>\n",
       "      <td>0.003367</td>\n",
       "      <td>0.367667</td>\n",
       "      <td>0.000000</td>\n",
       "      <td>0.020233</td>\n",
       "      <td>0.064400</td>\n",
       "      <td>0.040383</td>\n",
       "      <td>0.005083</td>\n",
       "      <td>0.007133</td>\n",
       "      <td>0.012733</td>\n",
       "      <td>...</td>\n",
       "      <td>35.770000</td>\n",
       "      <td>0.510000</td>\n",
       "      <td>9.420000</td>\n",
       "      <td>31.090000</td>\n",
       "      <td>1011.290000</td>\n",
       "      <td>3.660000</td>\n",
       "      <td>148.000000</td>\n",
       "      <td>0.000000</td>\n",
       "      <td>24.600000</td>\n",
       "      <td>0.000000</td>\n",
       "    </tr>\n",
       "    <tr>\n",
       "      <td>50%</td>\n",
       "      <td>0.562333</td>\n",
       "      <td>0.004283</td>\n",
       "      <td>0.562333</td>\n",
       "      <td>0.000017</td>\n",
       "      <td>0.020617</td>\n",
       "      <td>0.066633</td>\n",
       "      <td>0.042217</td>\n",
       "      <td>0.005433</td>\n",
       "      <td>0.008083</td>\n",
       "      <td>0.012933</td>\n",
       "      <td>...</td>\n",
       "      <td>50.320000</td>\n",
       "      <td>0.680000</td>\n",
       "      <td>10.000000</td>\n",
       "      <td>50.320000</td>\n",
       "      <td>1016.530000</td>\n",
       "      <td>5.930000</td>\n",
       "      <td>208.000000</td>\n",
       "      <td>0.000000</td>\n",
       "      <td>39.030000</td>\n",
       "      <td>0.000000</td>\n",
       "    </tr>\n",
       "    <tr>\n",
       "      <td>75%</td>\n",
       "      <td>0.970250</td>\n",
       "      <td>0.083917</td>\n",
       "      <td>0.970250</td>\n",
       "      <td>0.000233</td>\n",
       "      <td>0.068733</td>\n",
       "      <td>0.080633</td>\n",
       "      <td>0.068283</td>\n",
       "      <td>0.125417</td>\n",
       "      <td>0.053192</td>\n",
       "      <td>0.013100</td>\n",
       "      <td>...</td>\n",
       "      <td>66.260000</td>\n",
       "      <td>0.840000</td>\n",
       "      <td>10.000000</td>\n",
       "      <td>66.260000</td>\n",
       "      <td>1021.480000</td>\n",
       "      <td>8.940000</td>\n",
       "      <td>295.000000</td>\n",
       "      <td>0.000000</td>\n",
       "      <td>54.790000</td>\n",
       "      <td>0.000000</td>\n",
       "    </tr>\n",
       "    <tr>\n",
       "      <td>max</td>\n",
       "      <td>14.714567</td>\n",
       "      <td>0.613883</td>\n",
       "      <td>14.714567</td>\n",
       "      <td>1.401767</td>\n",
       "      <td>1.934083</td>\n",
       "      <td>0.794933</td>\n",
       "      <td>0.971750</td>\n",
       "      <td>0.851267</td>\n",
       "      <td>1.273933</td>\n",
       "      <td>1.088983</td>\n",
       "      <td>...</td>\n",
       "      <td>93.720000</td>\n",
       "      <td>0.980000</td>\n",
       "      <td>10.000000</td>\n",
       "      <td>101.120000</td>\n",
       "      <td>1042.460000</td>\n",
       "      <td>22.910000</td>\n",
       "      <td>359.000000</td>\n",
       "      <td>0.191000</td>\n",
       "      <td>75.490000</td>\n",
       "      <td>0.840000</td>\n",
       "    </tr>\n",
       "  </tbody>\n",
       "</table>\n",
       "<p>8 rows × 28 columns</p>\n",
       "</div>"
      ],
      "text/plain": [
       "            use [kW]       gen [kW]  House overall [kW]  Dishwasher [kW]  \\\n",
       "count  503910.000000  503910.000000       503910.000000    503910.000000   \n",
       "mean        0.858962       0.076229            0.858962         0.031368   \n",
       "std         1.058207       0.128428            1.058207         0.190951   \n",
       "min         0.000000       0.000000            0.000000         0.000000   \n",
       "25%         0.367667       0.003367            0.367667         0.000000   \n",
       "50%         0.562333       0.004283            0.562333         0.000017   \n",
       "75%         0.970250       0.083917            0.970250         0.000233   \n",
       "max        14.714567       0.613883           14.714567         1.401767   \n",
       "\n",
       "       Furnace 1 [kW]  Furnace 2 [kW]  Home office [kW]    Fridge [kW]  \\\n",
       "count   503910.000000   503910.000000     503910.000000  503910.000000   \n",
       "mean         0.099210        0.136779          0.081287       0.063556   \n",
       "std          0.169059        0.178631          0.104466       0.076199   \n",
       "min          0.000017        0.000067          0.000083       0.000067   \n",
       "25%          0.020233        0.064400          0.040383       0.005083   \n",
       "50%          0.020617        0.066633          0.042217       0.005433   \n",
       "75%          0.068733        0.080633          0.068283       0.125417   \n",
       "max          1.934083        0.794933          0.971750       0.851267   \n",
       "\n",
       "       Wine cellar [kW]  Garage door [kW]  ...    temperature       humidity  \\\n",
       "count     503910.000000     503910.000000  ...  503910.000000  503910.000000   \n",
       "mean           0.042137          0.014139  ...      50.741935       0.664085   \n",
       "std            0.057967          0.014292  ...      19.113807       0.194389   \n",
       "min            0.000017          0.000017  ...     -12.640000       0.130000   \n",
       "25%            0.007133          0.012733  ...      35.770000       0.510000   \n",
       "50%            0.008083          0.012933  ...      50.320000       0.680000   \n",
       "75%            0.053192          0.013100  ...      66.260000       0.840000   \n",
       "max            1.273933          1.088983  ...      93.720000       0.980000   \n",
       "\n",
       "          visibility  apparentTemperature       pressure      windSpeed  \\\n",
       "count  503910.000000        503910.000000  503910.000000  503910.000000   \n",
       "mean        9.253444            48.263382    1016.301625       6.649936   \n",
       "std         1.611186            22.027916       7.895185       3.982716   \n",
       "min         0.270000           -32.080000     986.400000       0.000000   \n",
       "25%         9.420000            31.090000    1011.290000       3.660000   \n",
       "50%        10.000000            50.320000    1016.530000       5.930000   \n",
       "75%        10.000000            66.260000    1021.480000       8.940000   \n",
       "max        10.000000           101.120000    1042.460000      22.910000   \n",
       "\n",
       "         windBearing  precipIntensity       dewPoint  precipProbability  \n",
       "count  503910.000000    503910.000000  503910.000000      503910.000000  \n",
       "mean      202.356843         0.002598      38.694013           0.056453  \n",
       "std       106.520474         0.011257      19.087939           0.165836  \n",
       "min         0.000000         0.000000     -27.240000           0.000000  \n",
       "25%       148.000000         0.000000      24.600000           0.000000  \n",
       "50%       208.000000         0.000000      39.030000           0.000000  \n",
       "75%       295.000000         0.000000      54.790000           0.000000  \n",
       "max       359.000000         0.191000      75.490000           0.840000  \n",
       "\n",
       "[8 rows x 28 columns]"
      ]
     },
     "execution_count": 8,
     "metadata": {},
     "output_type": "execute_result"
    }
   ],
   "source": [
    "df.describe()"
   ]
  },
  {
   "cell_type": "code",
   "execution_count": 9,
   "metadata": {
    "_cell_guid": "25d6f9c5-fd15-4ba7-b938-a3e927c50f1c",
    "_uuid": "1d8ddd56738f436c1713c451328693edafe1c3b4",
    "scrolled": false
   },
   "outputs": [
    {
     "data": {
      "text/plain": [
       "Index(['time', 'use [kW]', 'gen [kW]', 'House overall [kW]', 'Dishwasher [kW]',\n",
       "       'Furnace 1 [kW]', 'Furnace 2 [kW]', 'Home office [kW]', 'Fridge [kW]',\n",
       "       'Wine cellar [kW]', 'Garage door [kW]', 'Kitchen 12 [kW]',\n",
       "       'Kitchen 14 [kW]', 'Kitchen 38 [kW]', 'Barn [kW]', 'Well [kW]',\n",
       "       'Microwave [kW]', 'Living room [kW]', 'Solar [kW]', 'temperature',\n",
       "       'icon', 'humidity', 'visibility', 'summary', 'apparentTemperature',\n",
       "       'pressure', 'windSpeed', 'cloudCover', 'windBearing', 'precipIntensity',\n",
       "       'dewPoint', 'precipProbability'],\n",
       "      dtype='object')"
      ]
     },
     "execution_count": 9,
     "metadata": {},
     "output_type": "execute_result"
    }
   ],
   "source": [
    "df.columns"
   ]
  },
  {
   "cell_type": "code",
   "execution_count": 10,
   "metadata": {
    "_cell_guid": "03367835-8a7b-48d7-becb-4f1e10f18b28",
    "_uuid": "39f6858342a7496f73fb1d5bc1d184ddbb75b773"
   },
   "outputs": [
    {
     "data": {
      "text/plain": [
       "time                   0\n",
       "use [kW]               1\n",
       "gen [kW]               1\n",
       "House overall [kW]     1\n",
       "Dishwasher [kW]        1\n",
       "Furnace 1 [kW]         1\n",
       "Furnace 2 [kW]         1\n",
       "Home office [kW]       1\n",
       "Fridge [kW]            1\n",
       "Wine cellar [kW]       1\n",
       "Garage door [kW]       1\n",
       "Kitchen 12 [kW]        1\n",
       "Kitchen 14 [kW]        1\n",
       "Kitchen 38 [kW]        1\n",
       "Barn [kW]              1\n",
       "Well [kW]              1\n",
       "Microwave [kW]         1\n",
       "Living room [kW]       1\n",
       "Solar [kW]             1\n",
       "temperature            1\n",
       "icon                   1\n",
       "humidity               1\n",
       "visibility             1\n",
       "summary                1\n",
       "apparentTemperature    1\n",
       "pressure               1\n",
       "windSpeed              1\n",
       "cloudCover             1\n",
       "windBearing            1\n",
       "precipIntensity        1\n",
       "dewPoint               1\n",
       "precipProbability      1\n",
       "dtype: int64"
      ]
     },
     "execution_count": 10,
     "metadata": {},
     "output_type": "execute_result"
    }
   ],
   "source": [
    "# another sanity check to make sure that there are not more any nan\n",
    "df.isnull().sum()"
   ]
  },
  {
   "cell_type": "code",
   "execution_count": 11,
   "metadata": {},
   "outputs": [
    {
     "data": {
      "text/plain": [
       "(503910, 32)"
      ]
     },
     "execution_count": 11,
     "metadata": {},
     "output_type": "execute_result"
    }
   ],
   "source": [
    "#removing the truncated record\n",
    "#removing last row\n",
    "df=df[:-1]\n",
    "df.shape"
   ]
  },
  {
   "cell_type": "code",
   "execution_count": 12,
   "metadata": {
    "scrolled": true
   },
   "outputs": [
    {
     "data": {
      "text/plain": [
       "time                   0\n",
       "use [kW]               0\n",
       "gen [kW]               0\n",
       "House overall [kW]     0\n",
       "Dishwasher [kW]        0\n",
       "Furnace 1 [kW]         0\n",
       "Furnace 2 [kW]         0\n",
       "Home office [kW]       0\n",
       "Fridge [kW]            0\n",
       "Wine cellar [kW]       0\n",
       "Garage door [kW]       0\n",
       "Kitchen 12 [kW]        0\n",
       "Kitchen 14 [kW]        0\n",
       "Kitchen 38 [kW]        0\n",
       "Barn [kW]              0\n",
       "Well [kW]              0\n",
       "Microwave [kW]         0\n",
       "Living room [kW]       0\n",
       "Solar [kW]             0\n",
       "temperature            0\n",
       "icon                   0\n",
       "humidity               0\n",
       "visibility             0\n",
       "summary                0\n",
       "apparentTemperature    0\n",
       "pressure               0\n",
       "windSpeed              0\n",
       "cloudCover             0\n",
       "windBearing            0\n",
       "precipIntensity        0\n",
       "dewPoint               0\n",
       "precipProbability      0\n",
       "dtype: int64"
      ]
     },
     "execution_count": 12,
     "metadata": {},
     "output_type": "execute_result"
    }
   ],
   "source": [
    "# another sanity check to make sure that there are not more any nan\n",
    "df.isnull().sum()"
   ]
  },
  {
   "cell_type": "code",
   "execution_count": 13,
   "metadata": {},
   "outputs": [
    {
     "data": {
      "text/plain": [
       "Index(['time', 'use', 'gen', 'House overall', 'Dishwasher', 'Furnace 1',\n",
       "       'Furnace 2', 'Home office', 'Fridge', 'Wine cellar', 'Garage door',\n",
       "       'Kitchen 12', 'Kitchen 14', 'Kitchen 38', 'Barn', 'Well', 'Microwave',\n",
       "       'Living room', 'Solar', 'temperature', 'icon', 'humidity', 'visibility',\n",
       "       'summary', 'apparentTemperature', 'pressure', 'windSpeed', 'cloudCover',\n",
       "       'windBearing', 'precipIntensity', 'dewPoint', 'precipProbability'],\n",
       "      dtype='object')"
      ]
     },
     "execution_count": 13,
     "metadata": {},
     "output_type": "execute_result"
    }
   ],
   "source": [
    "df.columns = [col.replace(' [kW]', '') for col in df.columns]\n",
    "df.columns"
   ]
  },
  {
   "cell_type": "code",
   "execution_count": 14,
   "metadata": {},
   "outputs": [],
   "source": [
    "df['Total_Furnace'] = df[['Furnace 1','Furnace 2']].sum(axis=1)\n",
    "df['Average_Kitchen'] = df[['Kitchen 12', 'Kitchen 14', 'Kitchen 38']].mean(axis=1)"
   ]
  },
  {
   "cell_type": "code",
   "execution_count": 15,
   "metadata": {},
   "outputs": [],
   "source": [
    "df.drop(['Furnace 1','Furnace 2','Kitchen 12', 'Kitchen 14', 'Kitchen 38'],axis=1,inplace=True)"
   ]
  },
  {
   "cell_type": "code",
   "execution_count": 16,
   "metadata": {},
   "outputs": [
    {
     "data": {
      "text/plain": [
       "0    1451624400\n",
       "1    1451624401\n",
       "2    1451624402\n",
       "3    1451624403\n",
       "4    1451624404\n",
       "Name: time, dtype: object"
      ]
     },
     "execution_count": 16,
     "metadata": {},
     "output_type": "execute_result"
    }
   ],
   "source": [
    "df['time'].head()"
   ]
  },
  {
   "cell_type": "code",
   "execution_count": 17,
   "metadata": {},
   "outputs": [
    {
     "data": {
      "text/plain": [
       "0   2016-01-01 05:00:00\n",
       "1   2016-01-01 05:00:01\n",
       "2   2016-01-01 05:00:02\n",
       "3   2016-01-01 05:00:03\n",
       "4   2016-01-01 05:00:04\n",
       "Name: time, dtype: datetime64[ns]"
      ]
     },
     "execution_count": 17,
     "metadata": {},
     "output_type": "execute_result"
    }
   ],
   "source": [
    "#given that the time is in UNIX format\n",
    "time = pd.to_datetime(df['time'],unit='s')\n",
    "time.head()"
   ]
  },
  {
   "cell_type": "code",
   "execution_count": 18,
   "metadata": {},
   "outputs": [],
   "source": [
    "time_index = pd.date_range('2016-01-01 05:00', periods=len(df), freq='min')\n",
    "time_index = pd.DatetimeIndex(time_index)\n",
    "df = df.set_index(time_index)"
   ]
  },
  {
   "cell_type": "code",
   "execution_count": 19,
   "metadata": {},
   "outputs": [
    {
     "data": {
      "text/plain": [
       "(503910, 29)"
      ]
     },
     "execution_count": 19,
     "metadata": {},
     "output_type": "execute_result"
    }
   ],
   "source": [
    "df.shape"
   ]
  },
  {
   "cell_type": "code",
   "execution_count": 20,
   "metadata": {},
   "outputs": [],
   "source": [
    "df.drop(['gen'],axis=1,inplace=True)\n",
    "#data.drop('gen',axis=1)"
   ]
  },
  {
   "cell_type": "code",
   "execution_count": 21,
   "metadata": {},
   "outputs": [],
   "source": [
    "df.drop(['House overall'],axis=1,inplace=True)"
   ]
  },
  {
   "cell_type": "code",
   "execution_count": 22,
   "metadata": {},
   "outputs": [
    {
     "data": {
      "text/html": [
       "<div>\n",
       "<style scoped>\n",
       "    .dataframe tbody tr th:only-of-type {\n",
       "        vertical-align: middle;\n",
       "    }\n",
       "\n",
       "    .dataframe tbody tr th {\n",
       "        vertical-align: top;\n",
       "    }\n",
       "\n",
       "    .dataframe thead th {\n",
       "        text-align: right;\n",
       "    }\n",
       "</style>\n",
       "<table border=\"1\" class=\"dataframe\">\n",
       "  <thead>\n",
       "    <tr style=\"text-align: right;\">\n",
       "      <th></th>\n",
       "      <th>time</th>\n",
       "      <th>use</th>\n",
       "      <th>Dishwasher</th>\n",
       "      <th>Home office</th>\n",
       "      <th>Fridge</th>\n",
       "      <th>Wine cellar</th>\n",
       "      <th>Garage door</th>\n",
       "      <th>Barn</th>\n",
       "      <th>Well</th>\n",
       "      <th>Microwave</th>\n",
       "      <th>...</th>\n",
       "      <th>apparentTemperature</th>\n",
       "      <th>pressure</th>\n",
       "      <th>windSpeed</th>\n",
       "      <th>cloudCover</th>\n",
       "      <th>windBearing</th>\n",
       "      <th>precipIntensity</th>\n",
       "      <th>dewPoint</th>\n",
       "      <th>precipProbability</th>\n",
       "      <th>Total_Furnace</th>\n",
       "      <th>Average_Kitchen</th>\n",
       "    </tr>\n",
       "  </thead>\n",
       "  <tbody>\n",
       "    <tr>\n",
       "      <td>2016-01-01 05:00:00</td>\n",
       "      <td>1451624400</td>\n",
       "      <td>0.932833</td>\n",
       "      <td>0.000033</td>\n",
       "      <td>0.442633</td>\n",
       "      <td>0.12415</td>\n",
       "      <td>0.006983</td>\n",
       "      <td>0.013083</td>\n",
       "      <td>0.03135</td>\n",
       "      <td>0.001017</td>\n",
       "      <td>0.004067</td>\n",
       "      <td>...</td>\n",
       "      <td>29.26</td>\n",
       "      <td>1016.91</td>\n",
       "      <td>9.18</td>\n",
       "      <td>cloudCover</td>\n",
       "      <td>282.0</td>\n",
       "      <td>0.0</td>\n",
       "      <td>24.4</td>\n",
       "      <td>0.0</td>\n",
       "      <td>0.082617</td>\n",
       "      <td>0.000189</td>\n",
       "    </tr>\n",
       "    <tr>\n",
       "      <td>2016-01-01 05:01:00</td>\n",
       "      <td>1451624401</td>\n",
       "      <td>0.934333</td>\n",
       "      <td>0.000000</td>\n",
       "      <td>0.444067</td>\n",
       "      <td>0.12400</td>\n",
       "      <td>0.006983</td>\n",
       "      <td>0.013117</td>\n",
       "      <td>0.03150</td>\n",
       "      <td>0.001017</td>\n",
       "      <td>0.004067</td>\n",
       "      <td>...</td>\n",
       "      <td>29.26</td>\n",
       "      <td>1016.91</td>\n",
       "      <td>9.18</td>\n",
       "      <td>cloudCover</td>\n",
       "      <td>282.0</td>\n",
       "      <td>0.0</td>\n",
       "      <td>24.4</td>\n",
       "      <td>0.0</td>\n",
       "      <td>0.084533</td>\n",
       "      <td>0.000189</td>\n",
       "    </tr>\n",
       "  </tbody>\n",
       "</table>\n",
       "<p>2 rows × 27 columns</p>\n",
       "</div>"
      ],
      "text/plain": [
       "                           time       use  Dishwasher  Home office   Fridge  \\\n",
       "2016-01-01 05:00:00  1451624400  0.932833    0.000033     0.442633  0.12415   \n",
       "2016-01-01 05:01:00  1451624401  0.934333    0.000000     0.444067  0.12400   \n",
       "\n",
       "                     Wine cellar  Garage door     Barn      Well  Microwave  \\\n",
       "2016-01-01 05:00:00     0.006983     0.013083  0.03135  0.001017   0.004067   \n",
       "2016-01-01 05:01:00     0.006983     0.013117  0.03150  0.001017   0.004067   \n",
       "\n",
       "                     ...  apparentTemperature  pressure  windSpeed  \\\n",
       "2016-01-01 05:00:00  ...                29.26   1016.91       9.18   \n",
       "2016-01-01 05:01:00  ...                29.26   1016.91       9.18   \n",
       "\n",
       "                     cloudCover  windBearing  precipIntensity dewPoint  \\\n",
       "2016-01-01 05:00:00  cloudCover        282.0              0.0     24.4   \n",
       "2016-01-01 05:01:00  cloudCover        282.0              0.0     24.4   \n",
       "\n",
       "                     precipProbability  Total_Furnace  Average_Kitchen  \n",
       "2016-01-01 05:00:00                0.0       0.082617         0.000189  \n",
       "2016-01-01 05:01:00                0.0       0.084533         0.000189  \n",
       "\n",
       "[2 rows x 27 columns]"
      ]
     },
     "execution_count": 22,
     "metadata": {},
     "output_type": "execute_result"
    }
   ],
   "source": [
    "df.head(2)"
   ]
  },
  {
   "cell_type": "markdown",
   "metadata": {
    "_cell_guid": "2cc83d0f-626b-4048-8ffd-51010e800810",
    "_uuid": "64b0092f2b4702dcbebb56f868f87252ea6b87eb"
   },
   "source": [
    "# Data visualization"
   ]
  },
  {
   "cell_type": "code",
   "execution_count": 23,
   "metadata": {
    "_cell_guid": "dd48cb9c-3970-4614-95d5-0eb668b00994",
    "_uuid": "ab6c5bdbe295c16d37f45be52b72446a1cb35806"
   },
   "outputs": [
    {
     "data": {
      "image/png": "[encoded data removed]",
      "text/plain": [
       "<Figure size 432x288 with 1 Axes>"
      ]
     },
     "metadata": {
      "needs_background": "light"
     },
     "output_type": "display_data"
    },
    {
     "data": {
      "image/png": "[encoded data removed]",
      "text/plain": [
       "<Figure size 432x288 with 1 Axes>"
      ]
     },
     "metadata": {
      "needs_background": "light"
     },
     "output_type": "display_data"
    }
   ],
   "source": [
    "df.use.resample('D').sum().plot(title='Usage resampled over day for sum') \n",
    "#df.Global_active_power.resample('D').mean().plot(title='Global_active_power resampled over day', color='red') \n",
    "plt.tight_layout()\n",
    "plt.show()   \n",
    "\n",
    "df.use.resample('D').mean().plot(title='Usage resampled over day for mean', color='red') \n",
    "plt.tight_layout()\n",
    "plt.show()"
   ]
  },
  {
   "cell_type": "code",
   "execution_count": 24,
   "metadata": {
    "_cell_guid": "f52ae0f7-61e6-41e8-89b5-ccf04ad9961c",
    "_uuid": "cc12aa0f8fcf294c1323bb1851ff11d8a60f42e1"
   },
   "outputs": [
    {
     "data": {
      "image/png": "[encoded data removed]",
      "text/plain": [
       "<Figure size 432x288 with 2 Axes>"
      ]
     },
     "metadata": {
      "needs_background": "light"
     },
     "output_type": "display_data"
    }
   ],
   "source": [
    "### Below I show mean and std of 'Global_intensity' resampled over day \n",
    "r = df.Dishwasher.resample('D').agg(['mean', 'std'])\n",
    "r.plot(subplots = True, title='Dishwasher resampled over day')\n",
    "plt.show()"
   ]
  },
  {
   "cell_type": "code",
   "execution_count": 25,
   "metadata": {
    "_cell_guid": "25d02bfc-d098-4595-8347-5ad71c872804",
    "_uuid": "d4ecbce5841536070bcfc84662359425511f2029"
   },
   "outputs": [
    {
     "data": {
      "image/png": "[encoded data removed]",
      "text/plain": [
       "<Figure size 432x288 with 2 Axes>"
      ]
     },
     "metadata": {
      "needs_background": "light"
     },
     "output_type": "display_data"
    }
   ],
   "source": [
    "### Below I show mean and std of 'Global_reactive_power' resampled over day\n",
    "r2 = df.use.resample('D').agg(['mean', 'std'])\n",
    "r2.plot(subplots = True, title='use resampled over day', color='red')\n",
    "plt.show()"
   ]
  },
  {
   "cell_type": "code",
   "execution_count": 26,
   "metadata": {
    "_cell_guid": "695df25d-2086-4495-b5f5-73838908df39",
    "_uuid": "6bde1385e10e11f374a6e7a0e75fca1bb631c97b"
   },
   "outputs": [
    {
     "data": {
      "image/png": "[encoded data removed]",
      "text/plain": [
       "<Figure size 432x288 with 1 Axes>"
      ]
     },
     "metadata": {
      "needs_background": "light"
     },
     "output_type": "display_data"
    }
   ],
   "source": [
    "## Mean of 'Global_active_power' resampled over quarter\n",
    "df['use'].resample('Q').mean().plot(kind='bar')\n",
    "plt.xticks(rotation=60)\n",
    "plt.ylabel('use')\n",
    "plt.title('use per quarter (averaged over quarter)')\n",
    "plt.show()"
   ]
  },
  {
   "cell_type": "code",
   "execution_count": 27,
   "metadata": {
    "scrolled": true
   },
   "outputs": [
    {
     "data": {
      "text/plain": [
       "Index(['time', 'use', 'Dishwasher', 'Home office', 'Fridge', 'Wine cellar',\n",
       "       'Garage door', 'Barn', 'Well', 'Microwave', 'Living room', 'Solar',\n",
       "       'temperature', 'icon', 'humidity', 'visibility', 'summary',\n",
       "       'apparentTemperature', 'pressure', 'windSpeed', 'cloudCover',\n",
       "       'windBearing', 'precipIntensity', 'dewPoint', 'precipProbability',\n",
       "       'Total_Furnace', 'Average_Kitchen'],\n",
       "      dtype='object')"
      ]
     },
     "execution_count": 27,
     "metadata": {},
     "output_type": "execute_result"
    }
   ],
   "source": [
    "df.columns"
   ]
  },
  {
   "cell_type": "code",
   "execution_count": 28,
   "metadata": {},
   "outputs": [],
   "source": [
    "df.drop(['temperature','icon','humidity','visibility','summary','apparentTemperature','pressure','windSpeed','cloudCover'],axis=1,inplace=True)"
   ]
  },
  {
   "cell_type": "code",
   "execution_count": 29,
   "metadata": {},
   "outputs": [],
   "source": [
    "df.drop(['windBearing','precipIntensity','dewPoint','precipProbability'],axis=1,inplace=True)"
   ]
  },
  {
   "cell_type": "code",
   "execution_count": 30,
   "metadata": {},
   "outputs": [
    {
     "data": {
      "text/plain": [
       "Index(['time', 'use', 'Dishwasher', 'Home office', 'Fridge', 'Wine cellar',\n",
       "       'Garage door', 'Barn', 'Well', 'Microwave', 'Living room', 'Solar',\n",
       "       'Total_Furnace', 'Average_Kitchen'],\n",
       "      dtype='object')"
      ]
     },
     "execution_count": 30,
     "metadata": {},
     "output_type": "execute_result"
    }
   ],
   "source": [
    "df.columns"
   ]
  },
  {
   "cell_type": "markdown",
   "metadata": {
    "_cell_guid": "9228b5ee-3442-4f81-be6d-814625bd9dcf",
    "_uuid": "96eea7805695f35a1a5175c4f0ff1455a1cdf8ec"
   },
   "source": [
    "### Machine-Leaning: LSTM Data Preparation and feature engineering"
   ]
  },
  {
   "cell_type": "markdown",
   "metadata": {
    "_cell_guid": "785e6236-003c-4563-86bb-4d65ede164db",
    "_uuid": "c97563723f9719858787bb9492597d78a36b9689"
   },
   "source": [
    "#### * I will apply recurrent nueral network (LSTM) which is best suited for time-seriers and sequential problem. This approach is the best if we have large data. \n",
    "I will frame the supervised learning problem as predicting the use at the current time (t) given the use measurement and other features at the prior time step."
   ]
  },
  {
   "cell_type": "code",
   "execution_count": 31,
   "metadata": {
    "_cell_guid": "bbe47808-9a49-4d95-bdcd-4318e52afd3b",
    "_uuid": "357627b3b61c052602cc767150e85611349723c9"
   },
   "outputs": [],
   "source": [
    "def series_to_supervised(data, n_in=1, n_out=1, dropnan=True):\n",
    "    n_vars = 1 if type(data) is list else data.shape[1]\n",
    "    dff = pd.DataFrame(data)\n",
    "    cols, names = list(), list()\n",
    "    # input sequence (t-n, ... t-1)\n",
    "    for i in range(n_in, 0, -1):\n",
    "        cols.append(dff.shift(i))\n",
    "        names += [('var%d(t-%d)' % (j+1, i)) for j in range(n_vars)]\n",
    "    # forecast sequence (t, t+1, ... t+n)\n",
    "    for i in range(0, n_out):\n",
    "        cols.append(dff.shift(-i))\n",
    "        if i == 0:\n",
    "            names += [('var%d(t)' % (j+1)) for j in range(n_vars)]\n",
    "        else:\n",
    "            names += [('var%d(t+%d)' % (j+1, i)) for j in range(n_vars)]\n",
    "    # put it all together\n",
    "    agg = pd.concat(cols, axis=1)\n",
    "    agg.columns = names\n",
    "    # drop rows with NaN values\n",
    "    if dropnan:\n",
    "        agg.dropna(inplace=True)\n",
    "    return agg"
   ]
  },
  {
   "cell_type": "markdown",
   "metadata": {
    "_cell_guid": "54cdd84c-fa72-488f-8ad6-138cd3c75b19",
    "_uuid": "aae2b3dce1d5deede311162f4f87fe177f8658c3"
   },
   "source": [
    "### * In order to reduce the computation time, and also get a quick result to test the model.  One can resmaple the data over hour (the original data are given in minutes). This will reduce the size of data from 2075259 to 34589 but keep the overall strucure of data as shown in the above.   "
   ]
  },
  {
   "cell_type": "code",
   "execution_count": 32,
   "metadata": {
    "_cell_guid": "c058e5d7-0a80-47fc-b521-b138ddf35df2",
    "_uuid": "c7788fe3aa3b735c17ba173428c24656a88687b8"
   },
   "outputs": [
    {
     "data": {
      "text/plain": [
       "(8399, 13)"
      ]
     },
     "execution_count": 32,
     "metadata": {},
     "output_type": "execute_result"
    }
   ],
   "source": [
    "## resampling of data over hour\n",
    "df_resample = df.resample('h').mean() \n",
    "df_resample.shape"
   ]
  },
  {
   "cell_type": "code",
   "execution_count": 33,
   "metadata": {},
   "outputs": [
    {
     "name": "stdout",
     "output_type": "stream",
     "text": [
      "<class 'pandas.core.frame.DataFrame'>\n",
      "DatetimeIndex: 8399 entries, 2016-01-01 05:00:00 to 2016-12-16 03:00:00\n",
      "Freq: H\n",
      "Data columns (total 13 columns):\n",
      "use                8399 non-null float64\n",
      "Dishwasher         8399 non-null float64\n",
      "Home office        8399 non-null float64\n",
      "Fridge             8399 non-null float64\n",
      "Wine cellar        8399 non-null float64\n",
      "Garage door        8399 non-null float64\n",
      "Barn               8399 non-null float64\n",
      "Well               8399 non-null float64\n",
      "Microwave          8399 non-null float64\n",
      "Living room        8399 non-null float64\n",
      "Solar              8399 non-null float64\n",
      "Total_Furnace      8399 non-null float64\n",
      "Average_Kitchen    8399 non-null float64\n",
      "dtypes: float64(13)\n",
      "memory usage: 918.6 KB\n"
     ]
    }
   ],
   "source": [
    "df_resample.info()"
   ]
  },
  {
   "cell_type": "code",
   "execution_count": 34,
   "metadata": {
    "_cell_guid": "92446008-96b2-41eb-8443-0891da4f0661",
    "_uuid": "e52b3318d182b1af08c5b01f7861107b7e502332"
   },
   "outputs": [],
   "source": [
    "## If you would like to train based on the resampled data (over hour), then used below\n",
    "values = df_resample.values\n",
    "\n",
    "scaler = MinMaxScaler(feature_range=(0, 1))\n",
    "scaled = scaler.fit_transform(values)\n",
    "# frame as supervised learning\n",
    "reframed = series_to_supervised(scaled, 1, 1)"
   ]
  },
  {
   "cell_type": "code",
   "execution_count": 35,
   "metadata": {},
   "outputs": [
    {
     "data": {
      "text/html": [
       "<div>\n",
       "<style scoped>\n",
       "    .dataframe tbody tr th:only-of-type {\n",
       "        vertical-align: middle;\n",
       "    }\n",
       "\n",
       "    .dataframe tbody tr th {\n",
       "        vertical-align: top;\n",
       "    }\n",
       "\n",
       "    .dataframe thead th {\n",
       "        text-align: right;\n",
       "    }\n",
       "</style>\n",
       "<table border=\"1\" class=\"dataframe\">\n",
       "  <thead>\n",
       "    <tr style=\"text-align: right;\">\n",
       "      <th></th>\n",
       "      <th>var1(t-1)</th>\n",
       "      <th>var2(t-1)</th>\n",
       "      <th>var3(t-1)</th>\n",
       "      <th>var4(t-1)</th>\n",
       "      <th>var5(t-1)</th>\n",
       "      <th>var6(t-1)</th>\n",
       "      <th>var7(t-1)</th>\n",
       "      <th>var8(t-1)</th>\n",
       "      <th>var9(t-1)</th>\n",
       "      <th>var10(t-1)</th>\n",
       "      <th>...</th>\n",
       "      <th>var4(t)</th>\n",
       "      <th>var5(t)</th>\n",
       "      <th>var6(t)</th>\n",
       "      <th>var7(t)</th>\n",
       "      <th>var8(t)</th>\n",
       "      <th>var9(t)</th>\n",
       "      <th>var10(t)</th>\n",
       "      <th>var11(t)</th>\n",
       "      <th>var12(t)</th>\n",
       "      <th>var13(t)</th>\n",
       "    </tr>\n",
       "  </thead>\n",
       "  <tbody>\n",
       "    <tr>\n",
       "      <td>1</td>\n",
       "      <td>0.108914</td>\n",
       "      <td>0.000077</td>\n",
       "      <td>0.362694</td>\n",
       "      <td>0.096604</td>\n",
       "      <td>0.080866</td>\n",
       "      <td>0.044147</td>\n",
       "      <td>0.021399</td>\n",
       "      <td>0.001959</td>\n",
       "      <td>0.031768</td>\n",
       "      <td>0.004203</td>\n",
       "      <td>...</td>\n",
       "      <td>0.192951</td>\n",
       "      <td>0.144185</td>\n",
       "      <td>0.043433</td>\n",
       "      <td>0.021565</td>\n",
       "      <td>0.001919</td>\n",
       "      <td>0.006186</td>\n",
       "      <td>0.004519</td>\n",
       "      <td>0.005881</td>\n",
       "      <td>0.387686</td>\n",
       "      <td>0.002821</td>\n",
       "    </tr>\n",
       "    <tr>\n",
       "      <td>2</td>\n",
       "      <td>0.095765</td>\n",
       "      <td>0.000120</td>\n",
       "      <td>0.064833</td>\n",
       "      <td>0.192951</td>\n",
       "      <td>0.144185</td>\n",
       "      <td>0.043433</td>\n",
       "      <td>0.021565</td>\n",
       "      <td>0.001919</td>\n",
       "      <td>0.006186</td>\n",
       "      <td>0.004519</td>\n",
       "      <td>...</td>\n",
       "      <td>0.151925</td>\n",
       "      <td>0.009152</td>\n",
       "      <td>0.045004</td>\n",
       "      <td>0.018950</td>\n",
       "      <td>0.001906</td>\n",
       "      <td>0.006229</td>\n",
       "      <td>0.004549</td>\n",
       "      <td>0.005930</td>\n",
       "      <td>0.315877</td>\n",
       "      <td>0.002737</td>\n",
       "    </tr>\n",
       "    <tr>\n",
       "      <td>3</td>\n",
       "      <td>0.074528</td>\n",
       "      <td>0.000052</td>\n",
       "      <td>0.065017</td>\n",
       "      <td>0.151925</td>\n",
       "      <td>0.009152</td>\n",
       "      <td>0.045004</td>\n",
       "      <td>0.018950</td>\n",
       "      <td>0.001906</td>\n",
       "      <td>0.006229</td>\n",
       "      <td>0.004549</td>\n",
       "      <td>...</td>\n",
       "      <td>0.154295</td>\n",
       "      <td>0.008974</td>\n",
       "      <td>0.043736</td>\n",
       "      <td>0.018815</td>\n",
       "      <td>0.001910</td>\n",
       "      <td>0.006271</td>\n",
       "      <td>0.004565</td>\n",
       "      <td>0.005929</td>\n",
       "      <td>0.523308</td>\n",
       "      <td>0.003035</td>\n",
       "    </tr>\n",
       "    <tr>\n",
       "      <td>4</td>\n",
       "      <td>0.100133</td>\n",
       "      <td>0.000168</td>\n",
       "      <td>0.097422</td>\n",
       "      <td>0.154295</td>\n",
       "      <td>0.008974</td>\n",
       "      <td>0.043736</td>\n",
       "      <td>0.018815</td>\n",
       "      <td>0.001910</td>\n",
       "      <td>0.006271</td>\n",
       "      <td>0.004565</td>\n",
       "      <td>...</td>\n",
       "      <td>0.089555</td>\n",
       "      <td>0.009099</td>\n",
       "      <td>0.044737</td>\n",
       "      <td>0.017510</td>\n",
       "      <td>0.001905</td>\n",
       "      <td>0.006247</td>\n",
       "      <td>0.004608</td>\n",
       "      <td>0.005913</td>\n",
       "      <td>0.291815</td>\n",
       "      <td>0.002999</td>\n",
       "    </tr>\n",
       "    <tr>\n",
       "      <td>5</td>\n",
       "      <td>0.066710</td>\n",
       "      <td>0.000073</td>\n",
       "      <td>0.064980</td>\n",
       "      <td>0.089555</td>\n",
       "      <td>0.009099</td>\n",
       "      <td>0.044737</td>\n",
       "      <td>0.017510</td>\n",
       "      <td>0.001905</td>\n",
       "      <td>0.006247</td>\n",
       "      <td>0.004608</td>\n",
       "      <td>...</td>\n",
       "      <td>0.131056</td>\n",
       "      <td>0.009159</td>\n",
       "      <td>0.044187</td>\n",
       "      <td>0.018785</td>\n",
       "      <td>0.001899</td>\n",
       "      <td>0.006238</td>\n",
       "      <td>0.004528</td>\n",
       "      <td>0.005889</td>\n",
       "      <td>0.730823</td>\n",
       "      <td>0.002821</td>\n",
       "    </tr>\n",
       "  </tbody>\n",
       "</table>\n",
       "<p>5 rows × 26 columns</p>\n",
       "</div>"
      ],
      "text/plain": [
       "   var1(t-1)  var2(t-1)  var3(t-1)  var4(t-1)  var5(t-1)  var6(t-1)  \\\n",
       "1   0.108914   0.000077   0.362694   0.096604   0.080866   0.044147   \n",
       "2   0.095765   0.000120   0.064833   0.192951   0.144185   0.043433   \n",
       "3   0.074528   0.000052   0.065017   0.151925   0.009152   0.045004   \n",
       "4   0.100133   0.000168   0.097422   0.154295   0.008974   0.043736   \n",
       "5   0.066710   0.000073   0.064980   0.089555   0.009099   0.044737   \n",
       "\n",
       "   var7(t-1)  var8(t-1)  var9(t-1)  var10(t-1)  ...   var4(t)   var5(t)  \\\n",
       "1   0.021399   0.001959   0.031768    0.004203  ...  0.192951  0.144185   \n",
       "2   0.021565   0.001919   0.006186    0.004519  ...  0.151925  0.009152   \n",
       "3   0.018950   0.001906   0.006229    0.004549  ...  0.154295  0.008974   \n",
       "4   0.018815   0.001910   0.006271    0.004565  ...  0.089555  0.009099   \n",
       "5   0.017510   0.001905   0.006247    0.004608  ...  0.131056  0.009159   \n",
       "\n",
       "    var6(t)   var7(t)   var8(t)   var9(t)  var10(t)  var11(t)  var12(t)  \\\n",
       "1  0.043433  0.021565  0.001919  0.006186  0.004519  0.005881  0.387686   \n",
       "2  0.045004  0.018950  0.001906  0.006229  0.004549  0.005930  0.315877   \n",
       "3  0.043736  0.018815  0.001910  0.006271  0.004565  0.005929  0.523308   \n",
       "4  0.044737  0.017510  0.001905  0.006247  0.004608  0.005913  0.291815   \n",
       "5  0.044187  0.018785  0.001899  0.006238  0.004528  0.005889  0.730823   \n",
       "\n",
       "   var13(t)  \n",
       "1  0.002821  \n",
       "2  0.002737  \n",
       "3  0.003035  \n",
       "4  0.002999  \n",
       "5  0.002821  \n",
       "\n",
       "[5 rows x 26 columns]"
      ]
     },
     "execution_count": 35,
     "metadata": {},
     "output_type": "execute_result"
    }
   ],
   "source": [
    "reframed.head()"
   ]
  },
  {
   "cell_type": "code",
   "execution_count": 36,
   "metadata": {},
   "outputs": [
    {
     "name": "stdout",
     "output_type": "stream",
     "text": [
      "<class 'pandas.core.frame.DataFrame'>\n",
      "Int64Index: 8398 entries, 1 to 8398\n",
      "Data columns (total 26 columns):\n",
      "var1(t-1)     8398 non-null float64\n",
      "var2(t-1)     8398 non-null float64\n",
      "var3(t-1)     8398 non-null float64\n",
      "var4(t-1)     8398 non-null float64\n",
      "var5(t-1)     8398 non-null float64\n",
      "var6(t-1)     8398 non-null float64\n",
      "var7(t-1)     8398 non-null float64\n",
      "var8(t-1)     8398 non-null float64\n",
      "var9(t-1)     8398 non-null float64\n",
      "var10(t-1)    8398 non-null float64\n",
      "var11(t-1)    8398 non-null float64\n",
      "var12(t-1)    8398 non-null float64\n",
      "var13(t-1)    8398 non-null float64\n",
      "var1(t)       8398 non-null float64\n",
      "var2(t)       8398 non-null float64\n",
      "var3(t)       8398 non-null float64\n",
      "var4(t)       8398 non-null float64\n",
      "var5(t)       8398 non-null float64\n",
      "var6(t)       8398 non-null float64\n",
      "var7(t)       8398 non-null float64\n",
      "var8(t)       8398 non-null float64\n",
      "var9(t)       8398 non-null float64\n",
      "var10(t)      8398 non-null float64\n",
      "var11(t)      8398 non-null float64\n",
      "var12(t)      8398 non-null float64\n",
      "var13(t)      8398 non-null float64\n",
      "dtypes: float64(26)\n",
      "memory usage: 1.7 MB\n"
     ]
    }
   ],
   "source": [
    "reframed.info()"
   ]
  },
  {
   "cell_type": "code",
   "execution_count": 37,
   "metadata": {},
   "outputs": [
    {
     "name": "stdout",
     "output_type": "stream",
     "text": [
      "   var1(t-1)  var2(t-1)  var3(t-1)  var4(t-1)  var5(t-1)  var6(t-1)  \\\n",
      "1   0.108914   0.000077   0.362694   0.096604   0.080866   0.044147   \n",
      "2   0.095765   0.000120   0.064833   0.192951   0.144185   0.043433   \n",
      "3   0.074528   0.000052   0.065017   0.151925   0.009152   0.045004   \n",
      "4   0.100133   0.000168   0.097422   0.154295   0.008974   0.043736   \n",
      "5   0.066710   0.000073   0.064980   0.089555   0.009099   0.044737   \n",
      "\n",
      "   var7(t-1)  var8(t-1)  var9(t-1)  var10(t-1)  var11(t-1)  var12(t-1)  \\\n",
      "1   0.021399   0.001959   0.031768    0.004203    0.005671    0.333730   \n",
      "2   0.021565   0.001919   0.006186    0.004519    0.005881    0.387686   \n",
      "3   0.018950   0.001906   0.006229    0.004549    0.005930    0.315877   \n",
      "4   0.018815   0.001910   0.006271    0.004565    0.005929    0.523308   \n",
      "5   0.017510   0.001905   0.006247    0.004608    0.005913    0.291815   \n",
      "\n",
      "   var13(t-1)  \n",
      "1    0.003092  \n",
      "2    0.002821  \n",
      "3    0.002737  \n",
      "4    0.003035  \n",
      "5    0.002999  \n"
     ]
    }
   ],
   "source": [
    "# drop columns we don't want to predict\n",
    "reframed.drop(reframed.columns[[13,14,15,16,17,18,19,20,21,22,23,24,25]], axis=1, inplace=True)\n",
    "print(reframed.head())"
   ]
  },
  {
   "cell_type": "code",
   "execution_count": 38,
   "metadata": {},
   "outputs": [
    {
     "data": {
      "text/html": [
       "<div>\n",
       "<style scoped>\n",
       "    .dataframe tbody tr th:only-of-type {\n",
       "        vertical-align: middle;\n",
       "    }\n",
       "\n",
       "    .dataframe tbody tr th {\n",
       "        vertical-align: top;\n",
       "    }\n",
       "\n",
       "    .dataframe thead th {\n",
       "        text-align: right;\n",
       "    }\n",
       "</style>\n",
       "<table border=\"1\" class=\"dataframe\">\n",
       "  <thead>\n",
       "    <tr style=\"text-align: right;\">\n",
       "      <th></th>\n",
       "      <th>var1(t-1)</th>\n",
       "      <th>var2(t-1)</th>\n",
       "      <th>var3(t-1)</th>\n",
       "      <th>var4(t-1)</th>\n",
       "      <th>var5(t-1)</th>\n",
       "      <th>var6(t-1)</th>\n",
       "      <th>var7(t-1)</th>\n",
       "      <th>var8(t-1)</th>\n",
       "      <th>var9(t-1)</th>\n",
       "      <th>var10(t-1)</th>\n",
       "      <th>var11(t-1)</th>\n",
       "      <th>var12(t-1)</th>\n",
       "      <th>var13(t-1)</th>\n",
       "    </tr>\n",
       "  </thead>\n",
       "  <tbody>\n",
       "    <tr>\n",
       "      <td>1</td>\n",
       "      <td>0.108914</td>\n",
       "      <td>0.000077</td>\n",
       "      <td>0.362694</td>\n",
       "      <td>0.096604</td>\n",
       "      <td>0.080866</td>\n",
       "      <td>0.044147</td>\n",
       "      <td>0.021399</td>\n",
       "      <td>0.001959</td>\n",
       "      <td>0.031768</td>\n",
       "      <td>0.004203</td>\n",
       "      <td>0.005671</td>\n",
       "      <td>0.333730</td>\n",
       "      <td>0.003092</td>\n",
       "    </tr>\n",
       "    <tr>\n",
       "      <td>2</td>\n",
       "      <td>0.095765</td>\n",
       "      <td>0.000120</td>\n",
       "      <td>0.064833</td>\n",
       "      <td>0.192951</td>\n",
       "      <td>0.144185</td>\n",
       "      <td>0.043433</td>\n",
       "      <td>0.021565</td>\n",
       "      <td>0.001919</td>\n",
       "      <td>0.006186</td>\n",
       "      <td>0.004519</td>\n",
       "      <td>0.005881</td>\n",
       "      <td>0.387686</td>\n",
       "      <td>0.002821</td>\n",
       "    </tr>\n",
       "    <tr>\n",
       "      <td>3</td>\n",
       "      <td>0.074528</td>\n",
       "      <td>0.000052</td>\n",
       "      <td>0.065017</td>\n",
       "      <td>0.151925</td>\n",
       "      <td>0.009152</td>\n",
       "      <td>0.045004</td>\n",
       "      <td>0.018950</td>\n",
       "      <td>0.001906</td>\n",
       "      <td>0.006229</td>\n",
       "      <td>0.004549</td>\n",
       "      <td>0.005930</td>\n",
       "      <td>0.315877</td>\n",
       "      <td>0.002737</td>\n",
       "    </tr>\n",
       "    <tr>\n",
       "      <td>4</td>\n",
       "      <td>0.100133</td>\n",
       "      <td>0.000168</td>\n",
       "      <td>0.097422</td>\n",
       "      <td>0.154295</td>\n",
       "      <td>0.008974</td>\n",
       "      <td>0.043736</td>\n",
       "      <td>0.018815</td>\n",
       "      <td>0.001910</td>\n",
       "      <td>0.006271</td>\n",
       "      <td>0.004565</td>\n",
       "      <td>0.005929</td>\n",
       "      <td>0.523308</td>\n",
       "      <td>0.003035</td>\n",
       "    </tr>\n",
       "    <tr>\n",
       "      <td>5</td>\n",
       "      <td>0.066710</td>\n",
       "      <td>0.000073</td>\n",
       "      <td>0.064980</td>\n",
       "      <td>0.089555</td>\n",
       "      <td>0.009099</td>\n",
       "      <td>0.044737</td>\n",
       "      <td>0.017510</td>\n",
       "      <td>0.001905</td>\n",
       "      <td>0.006247</td>\n",
       "      <td>0.004608</td>\n",
       "      <td>0.005913</td>\n",
       "      <td>0.291815</td>\n",
       "      <td>0.002999</td>\n",
       "    </tr>\n",
       "  </tbody>\n",
       "</table>\n",
       "</div>"
      ],
      "text/plain": [
       "   var1(t-1)  var2(t-1)  var3(t-1)  var4(t-1)  var5(t-1)  var6(t-1)  \\\n",
       "1   0.108914   0.000077   0.362694   0.096604   0.080866   0.044147   \n",
       "2   0.095765   0.000120   0.064833   0.192951   0.144185   0.043433   \n",
       "3   0.074528   0.000052   0.065017   0.151925   0.009152   0.045004   \n",
       "4   0.100133   0.000168   0.097422   0.154295   0.008974   0.043736   \n",
       "5   0.066710   0.000073   0.064980   0.089555   0.009099   0.044737   \n",
       "\n",
       "   var7(t-1)  var8(t-1)  var9(t-1)  var10(t-1)  var11(t-1)  var12(t-1)  \\\n",
       "1   0.021399   0.001959   0.031768    0.004203    0.005671    0.333730   \n",
       "2   0.021565   0.001919   0.006186    0.004519    0.005881    0.387686   \n",
       "3   0.018950   0.001906   0.006229    0.004549    0.005930    0.315877   \n",
       "4   0.018815   0.001910   0.006271    0.004565    0.005929    0.523308   \n",
       "5   0.017510   0.001905   0.006247    0.004608    0.005913    0.291815   \n",
       "\n",
       "   var13(t-1)  \n",
       "1    0.003092  \n",
       "2    0.002821  \n",
       "3    0.002737  \n",
       "4    0.003035  \n",
       "5    0.002999  "
      ]
     },
     "execution_count": 38,
     "metadata": {},
     "output_type": "execute_result"
    }
   ],
   "source": [
    "reframed.head()"
   ]
  },
  {
   "cell_type": "code",
   "execution_count": 39,
   "metadata": {
    "_cell_guid": "09d42264-a006-4b74-b15f-335c9eec1ca3",
    "_uuid": "e34334eecbc31120132753c7d0f156e448e7499e"
   },
   "outputs": [],
   "source": [
    "# split into train and test sets\n",
    "values = reframed.values"
   ]
  },
  {
   "cell_type": "code",
   "execution_count": 40,
   "metadata": {},
   "outputs": [
    {
     "name": "stdout",
     "output_type": "stream",
     "text": [
      "6000\n"
     ]
    }
   ],
   "source": [
    "n_train_time = 6000\n",
    "print(n_train_time)\n",
    "train = values[:n_train_time, :]\n",
    "test = values[n_train_time:, :]"
   ]
  },
  {
   "cell_type": "code",
   "execution_count": 41,
   "metadata": {},
   "outputs": [
    {
     "data": {
      "text/plain": [
       "(6000, 13)"
      ]
     },
     "execution_count": 41,
     "metadata": {},
     "output_type": "execute_result"
    }
   ],
   "source": [
    "train.shape"
   ]
  },
  {
   "cell_type": "code",
   "execution_count": 42,
   "metadata": {},
   "outputs": [
    {
     "data": {
      "text/plain": [
       "(2398, 13)"
      ]
     },
     "execution_count": 42,
     "metadata": {},
     "output_type": "execute_result"
    }
   ],
   "source": [
    "test.shape"
   ]
  },
  {
   "cell_type": "code",
   "execution_count": 43,
   "metadata": {},
   "outputs": [],
   "source": [
    "##test = values[n_train_time:n_test_time, :]\n",
    "# split into input and outputs\n",
    "train_X, train_y = train[:, :-1], train[:, -1]\n",
    "test_X, test_y = test[:, :-1], test[:, -1]"
   ]
  },
  {
   "cell_type": "code",
   "execution_count": 44,
   "metadata": {},
   "outputs": [
    {
     "name": "stdout",
     "output_type": "stream",
     "text": [
      "(6000, 1, 12) (6000,) (2398, 1, 12) (2398,)\n"
     ]
    }
   ],
   "source": [
    "# reshape input to be 3D [samples, timesteps, features]\n",
    "train_X = train_X.reshape((train_X.shape[0], 1, train_X.shape[1]))\n",
    "test_X = test_X.reshape((test_X.shape[0], 1, test_X.shape[1]))\n",
    "print(train_X.shape, train_y.shape, test_X.shape, test_y.shape) \n",
    "# We reshaped the input into the 3D format as expected by LSTMs, namely [samples, timesteps, features]."
   ]
  },
  {
   "cell_type": "markdown",
   "metadata": {
    "_cell_guid": "58d20cc6-4a51-4c66-9e79-d978de83f873",
    "_uuid": "afb164028f72fc78aa0bca82055f23dd69fe9473"
   },
   "source": [
    "## Model architecture\n",
    "\n",
    "#### 1)  LSTM with 100 neurons in the first layer \n",
    "#### 3) dropout 20%\n",
    "#### 4) 1 neuron in the output layer for predicting total usage. \n",
    "#### 5) The input shape will be 1 time step with 23 features.\n",
    "\n",
    "#### 6) I use the Mean Absolute Error (MAE) loss function and the efficient Adam version of stochastic gradient descent.\n",
    "#### 7) The model will be fit for 20 training epochs with a batch size of 70.\n"
   ]
  },
  {
   "cell_type": "code",
   "execution_count": 45,
   "metadata": {},
   "outputs": [
    {
     "data": {
      "text/plain": [
       "1"
      ]
     },
     "execution_count": 45,
     "metadata": {},
     "output_type": "execute_result"
    }
   ],
   "source": [
    "train_X.shape[1]"
   ]
  },
  {
   "cell_type": "code",
   "execution_count": 46,
   "metadata": {},
   "outputs": [
    {
     "data": {
      "text/plain": [
       "12"
      ]
     },
     "execution_count": 46,
     "metadata": {},
     "output_type": "execute_result"
    }
   ],
   "source": [
    "train_X.shape[2]"
   ]
  },
  {
   "cell_type": "code",
   "execution_count": 47,
   "metadata": {},
   "outputs": [
    {
     "name": "stdout",
     "output_type": "stream",
     "text": [
      "WARNING:tensorflow:From C:\\Users\\smartbridge\\Anaconda3\\lib\\site-packages\\keras\\backend\\tensorflow_backend.py:74: The name tf.get_default_graph is deprecated. Please use tf.compat.v1.get_default_graph instead.\n",
      "\n",
      "WARNING:tensorflow:From C:\\Users\\smartbridge\\Anaconda3\\lib\\site-packages\\keras\\backend\\tensorflow_backend.py:517: The name tf.placeholder is deprecated. Please use tf.compat.v1.placeholder instead.\n",
      "\n",
      "WARNING:tensorflow:From C:\\Users\\smartbridge\\Anaconda3\\lib\\site-packages\\keras\\backend\\tensorflow_backend.py:4138: The name tf.random_uniform is deprecated. Please use tf.random.uniform instead.\n",
      "\n",
      "WARNING:tensorflow:From C:\\Users\\smartbridge\\Anaconda3\\lib\\site-packages\\keras\\optimizers.py:790: The name tf.train.Optimizer is deprecated. Please use tf.compat.v1.train.Optimizer instead.\n",
      "\n",
      "_________________________________________________________________\n",
      "Layer (type)                 Output Shape              Param #   \n",
      "=================================================================\n",
      "lstm_1 (LSTM)                (None, 1, 100)            45200     \n",
      "_________________________________________________________________\n",
      "activation_1 (Activation)    (None, 1, 100)            0         \n",
      "_________________________________________________________________\n",
      "lstm_2 (LSTM)                (None, 10)                4440      \n",
      "_________________________________________________________________\n",
      "activation_2 (Activation)    (None, 10)                0         \n",
      "_________________________________________________________________\n",
      "dense_1 (Dense)              (None, 1)                 11        \n",
      "_________________________________________________________________\n",
      "activation_3 (Activation)    (None, 1)                 0         \n",
      "=================================================================\n",
      "Total params: 49,651\n",
      "Trainable params: 49,651\n",
      "Non-trainable params: 0\n",
      "_________________________________________________________________\n"
     ]
    }
   ],
   "source": [
    "from keras.layers import Activation\n",
    "model = Sequential()\n",
    "model.add(LSTM(units=100, return_sequences=True,input_shape=(train_X.shape[1], 12)))\n",
    "model.add(Activation('relu'))\n",
    "model.add(LSTM(units=10))\n",
    "model.add(Activation('relu'))\n",
    "\n",
    "model.add(Dense(1))\n",
    "model.add(Activation('sigmoid'))\n",
    "model.compile(optimizer = 'adam', loss = 'mean_squared_error')\n",
    "model.summary()"
   ]
  },
  {
   "cell_type": "code",
   "execution_count": 48,
   "metadata": {
    "scrolled": true
   },
   "outputs": [
    {
     "name": "stdout",
     "output_type": "stream",
     "text": [
      "WARNING:tensorflow:From C:\\Users\\smartbridge\\Anaconda3\\lib\\site-packages\\tensorflow\\python\\ops\\math_grad.py:1250: add_dispatch_support.<locals>.wrapper (from tensorflow.python.ops.array_ops) is deprecated and will be removed in a future version.\n",
      "Instructions for updating:\n",
      "Use tf.where in 2.0, which has the same broadcast rule as np.where\n",
      "WARNING:tensorflow:From C:\\Users\\smartbridge\\Anaconda3\\lib\\site-packages\\keras\\backend\\tensorflow_backend.py:986: The name tf.assign_add is deprecated. Please use tf.compat.v1.assign_add instead.\n",
      "\n",
      "WARNING:tensorflow:From C:\\Users\\smartbridge\\Anaconda3\\lib\\site-packages\\keras\\backend\\tensorflow_backend.py:973: The name tf.assign is deprecated. Please use tf.compat.v1.assign instead.\n",
      "\n",
      "Train on 6000 samples, validate on 2398 samples\n",
      "Epoch 1/150\n",
      "6000/6000 [==============================] - 2s 300us/step - loss: 0.1784 - val_loss: 0.0954\n",
      "Epoch 2/150\n",
      "6000/6000 [==============================] - 0s 70us/step - loss: 0.0381 - val_loss: 0.0188\n",
      "Epoch 3/150\n",
      "6000/6000 [==============================] - 0s 66us/step - loss: 0.0118 - val_loss: 0.0142\n",
      "Epoch 4/150\n",
      "6000/6000 [==============================] - 0s 71us/step - loss: 0.0099 - val_loss: 0.0135\n",
      "Epoch 5/150\n",
      "6000/6000 [==============================] - 0s 66us/step - loss: 0.0094 - val_loss: 0.0134\n",
      "Epoch 6/150\n",
      "6000/6000 [==============================] - 0s 67us/step - loss: 0.0092 - val_loss: 0.0133\n",
      "Epoch 7/150\n",
      "6000/6000 [==============================] - 0s 66us/step - loss: 0.0091 - val_loss: 0.0132\n",
      "Epoch 8/150\n",
      "6000/6000 [==============================] - 0s 69us/step - loss: 0.0090 - val_loss: 0.0132\n",
      "Epoch 9/150\n",
      "6000/6000 [==============================] - 0s 66us/step - loss: 0.0090 - val_loss: 0.0132\n",
      "Epoch 10/150\n",
      "6000/6000 [==============================] - 0s 76us/step - loss: 0.0089 - val_loss: 0.0132\n",
      "Epoch 11/150\n",
      "6000/6000 [==============================] - 0s 72us/step - loss: 0.0089 - val_loss: 0.0132\n",
      "Epoch 12/150\n",
      "6000/6000 [==============================] - 0s 68us/step - loss: 0.0089 - val_loss: 0.0132\n",
      "Epoch 13/150\n",
      "6000/6000 [==============================] - 0s 67us/step - loss: 0.0089 - val_loss: 0.0132\n",
      "Epoch 14/150\n",
      "6000/6000 [==============================] - 0s 65us/step - loss: 0.0088 - val_loss: 0.0132\n",
      "Epoch 15/150\n",
      "6000/6000 [==============================] - 0s 68us/step - loss: 0.0088 - val_loss: 0.0132\n",
      "Epoch 16/150\n",
      "6000/6000 [==============================] - 0s 71us/step - loss: 0.0088 - val_loss: 0.0132\n",
      "Epoch 17/150\n",
      "6000/6000 [==============================] - 0s 71us/step - loss: 0.0088 - val_loss: 0.0132\n",
      "Epoch 18/150\n",
      "6000/6000 [==============================] - 0s 73us/step - loss: 0.0088 - val_loss: 0.0132\n",
      "Epoch 19/150\n",
      "6000/6000 [==============================] - 0s 77us/step - loss: 0.0088 - val_loss: 0.0132\n",
      "Epoch 20/150\n",
      "6000/6000 [==============================] - 0s 77us/step - loss: 0.0088 - val_loss: 0.0132\n",
      "Epoch 21/150\n",
      "6000/6000 [==============================] - 0s 69us/step - loss: 0.0088 - val_loss: 0.0132\n",
      "Epoch 22/150\n",
      "6000/6000 [==============================] - 0s 78us/step - loss: 0.0088 - val_loss: 0.0132\n",
      "Epoch 23/150\n",
      "6000/6000 [==============================] - 0s 71us/step - loss: 0.0088 - val_loss: 0.0132\n",
      "Epoch 24/150\n",
      "6000/6000 [==============================] - 1s 86us/step - loss: 0.0088 - val_loss: 0.0132\n",
      "Epoch 25/150\n",
      "6000/6000 [==============================] - 1s 86us/step - loss: 0.0088 - val_loss: 0.0132\n",
      "Epoch 26/150\n",
      "6000/6000 [==============================] - 0s 80us/step - loss: 0.0088 - val_loss: 0.0132\n",
      "Epoch 27/150\n",
      "6000/6000 [==============================] - 0s 70us/step - loss: 0.0088 - val_loss: 0.0132\n",
      "Epoch 28/150\n",
      "6000/6000 [==============================] - 1s 89us/step - loss: 0.0088 - val_loss: 0.0132\n",
      "Epoch 29/150\n",
      "6000/6000 [==============================] - 0s 63us/step - loss: 0.0088 - val_loss: 0.0132\n",
      "Epoch 30/150\n",
      "6000/6000 [==============================] - 0s 74us/step - loss: 0.0088 - val_loss: 0.0132\n",
      "Epoch 31/150\n",
      "6000/6000 [==============================] - 0s 71us/step - loss: 0.0088 - val_loss: 0.0132\n",
      "Epoch 32/150\n",
      "6000/6000 [==============================] - 0s 70us/step - loss: 0.0088 - val_loss: 0.0132\n",
      "Epoch 33/150\n",
      "6000/6000 [==============================] - 0s 75us/step - loss: 0.0088 - val_loss: 0.0132\n",
      "Epoch 34/150\n",
      "6000/6000 [==============================] - 0s 66us/step - loss: 0.0088 - val_loss: 0.0132\n",
      "Epoch 35/150\n",
      "6000/6000 [==============================] - 0s 63us/step - loss: 0.0088 - val_loss: 0.0132\n",
      "Epoch 36/150\n",
      "6000/6000 [==============================] - 0s 75us/step - loss: 0.0088 - val_loss: 0.0132\n",
      "Epoch 37/150\n",
      "6000/6000 [==============================] - 0s 65us/step - loss: 0.0088 - val_loss: 0.0132\n",
      "Epoch 38/150\n",
      "6000/6000 [==============================] - 0s 68us/step - loss: 0.0088 - val_loss: 0.0132\n",
      "Epoch 39/150\n",
      "6000/6000 [==============================] - 0s 67us/step - loss: 0.0088 - val_loss: 0.0132\n",
      "Epoch 40/150\n",
      "6000/6000 [==============================] - 0s 66us/step - loss: 0.0088 - val_loss: 0.0132\n",
      "Epoch 41/150\n",
      "6000/6000 [==============================] - 0s 68us/step - loss: 0.0088 - val_loss: 0.0132\n",
      "Epoch 42/150\n",
      "6000/6000 [==============================] - 0s 69us/step - loss: 0.0088 - val_loss: 0.0132\n",
      "Epoch 43/150\n",
      "6000/6000 [==============================] - 0s 61us/step - loss: 0.0088 - val_loss: 0.0132\n",
      "Epoch 44/150\n",
      "6000/6000 [==============================] - 0s 59us/step - loss: 0.0088 - val_loss: 0.0132\n",
      "Epoch 45/150\n",
      "6000/6000 [==============================] - 0s 62us/step - loss: 0.0088 - val_loss: 0.0132\n",
      "Epoch 46/150\n",
      "6000/6000 [==============================] - 0s 61us/step - loss: 0.0087 - val_loss: 0.0130\n",
      "Epoch 47/150\n",
      "6000/6000 [==============================] - 0s 65us/step - loss: 0.0082 - val_loss: 0.0129\n",
      "Epoch 48/150\n",
      "6000/6000 [==============================] - 0s 62us/step - loss: 0.0080 - val_loss: 0.0128\n",
      "Epoch 49/150\n",
      "6000/6000 [==============================] - 0s 66us/step - loss: 0.0079 - val_loss: 0.0128\n",
      "Epoch 50/150\n",
      "6000/6000 [==============================] - 0s 61us/step - loss: 0.0079 - val_loss: 0.0127\n",
      "Epoch 51/150\n",
      "6000/6000 [==============================] - 0s 67us/step - loss: 0.0078 - val_loss: 0.0127\n",
      "Epoch 52/150\n",
      "6000/6000 [==============================] - 0s 64us/step - loss: 0.0078 - val_loss: 0.0126\n",
      "Epoch 53/150\n",
      "6000/6000 [==============================] - 0s 71us/step - loss: 0.0078 - val_loss: 0.0126\n",
      "Epoch 54/150\n",
      "6000/6000 [==============================] - 0s 63us/step - loss: 0.0077 - val_loss: 0.0126\n",
      "Epoch 55/150\n",
      "6000/6000 [==============================] - 0s 66us/step - loss: 0.0077 - val_loss: 0.0126\n",
      "Epoch 56/150\n",
      "6000/6000 [==============================] - 0s 71us/step - loss: 0.0077 - val_loss: 0.0125\n",
      "Epoch 57/150\n",
      "6000/6000 [==============================] - 0s 80us/step - loss: 0.0077 - val_loss: 0.0125\n",
      "Epoch 58/150\n",
      "6000/6000 [==============================] - 0s 64us/step - loss: 0.0076 - val_loss: 0.0125\n",
      "Epoch 59/150\n",
      "6000/6000 [==============================] - 0s 60us/step - loss: 0.0076 - val_loss: 0.0124\n",
      "Epoch 60/150\n",
      "6000/6000 [==============================] - 0s 74us/step - loss: 0.0076 - val_loss: 0.0124\n",
      "Epoch 61/150\n",
      "6000/6000 [==============================] - 0s 72us/step - loss: 0.0076 - val_loss: 0.0123\n",
      "Epoch 62/150\n",
      "6000/6000 [==============================] - 0s 64us/step - loss: 0.0075 - val_loss: 0.0123\n",
      "Epoch 63/150\n",
      "6000/6000 [==============================] - 1s 84us/step - loss: 0.0075 - val_loss: 0.0122\n",
      "Epoch 64/150\n",
      "6000/6000 [==============================] - 0s 66us/step - loss: 0.0074 - val_loss: 0.0121\n",
      "Epoch 65/150\n",
      "6000/6000 [==============================] - 1s 91us/step - loss: 0.0074 - val_loss: 0.0120\n",
      "Epoch 66/150\n",
      "6000/6000 [==============================] - 0s 75us/step - loss: 0.0073 - val_loss: 0.0120\n",
      "Epoch 67/150\n",
      "6000/6000 [==============================] - 0s 74us/step - loss: 0.0073 - val_loss: 0.0119\n",
      "Epoch 68/150\n",
      "6000/6000 [==============================] - ETA: 0s - loss: 0.007 - 1s 84us/step - loss: 0.0073 - val_loss: 0.0119\n",
      "Epoch 69/150\n",
      "6000/6000 [==============================] - 0s 75us/step - loss: 0.0072 - val_loss: 0.0119\n",
      "Epoch 70/150\n",
      "6000/6000 [==============================] - 0s 82us/step - loss: 0.0072 - val_loss: 0.0119\n",
      "Epoch 71/150\n",
      "6000/6000 [==============================] - 0s 71us/step - loss: 0.0072 - val_loss: 0.0118\n",
      "Epoch 72/150\n",
      "6000/6000 [==============================] - 0s 68us/step - loss: 0.0071 - val_loss: 0.0119\n",
      "Epoch 73/150\n",
      "6000/6000 [==============================] - 0s 73us/step - loss: 0.0071 - val_loss: 0.0119\n",
      "Epoch 74/150\n",
      "6000/6000 [==============================] - 0s 75us/step - loss: 0.0071 - val_loss: 0.0118\n",
      "Epoch 75/150\n",
      "6000/6000 [==============================] - 0s 76us/step - loss: 0.0071 - val_loss: 0.0118\n",
      "Epoch 76/150\n",
      "6000/6000 [==============================] - 0s 77us/step - loss: 0.0071 - val_loss: 0.0118\n",
      "Epoch 77/150\n",
      "6000/6000 [==============================] - 0s 70us/step - loss: 0.0070 - val_loss: 0.0118\n",
      "Epoch 78/150\n",
      "6000/6000 [==============================] - 0s 77us/step - loss: 0.0070 - val_loss: 0.0117\n",
      "Epoch 79/150\n",
      "6000/6000 [==============================] - 0s 71us/step - loss: 0.0070 - val_loss: 0.0118\n",
      "Epoch 80/150\n",
      "6000/6000 [==============================] - 1s 92us/step - loss: 0.0070 - val_loss: 0.0118\n",
      "Epoch 81/150\n",
      "6000/6000 [==============================] - 1s 86us/step - loss: 0.0070 - val_loss: 0.0117\n",
      "Epoch 82/150\n",
      "6000/6000 [==============================] - 0s 71us/step - loss: 0.0069 - val_loss: 0.0117\n",
      "Epoch 83/150\n",
      "6000/6000 [==============================] - 0s 79us/step - loss: 0.0069 - val_loss: 0.0117\n",
      "Epoch 84/150\n",
      "6000/6000 [==============================] - 0s 73us/step - loss: 0.0069 - val_loss: 0.0117\n",
      "Epoch 85/150\n",
      "6000/6000 [==============================] - 0s 65us/step - loss: 0.0068 - val_loss: 0.0117\n",
      "Epoch 86/150\n",
      "6000/6000 [==============================] - 0s 64us/step - loss: 0.0068 - val_loss: 0.0116\n",
      "Epoch 87/150\n",
      "6000/6000 [==============================] - 0s 62us/step - loss: 0.0068 - val_loss: 0.0116\n",
      "Epoch 88/150\n",
      "6000/6000 [==============================] - 0s 61us/step - loss: 0.0068 - val_loss: 0.0117\n",
      "Epoch 89/150\n",
      "6000/6000 [==============================] - 0s 62us/step - loss: 0.0068 - val_loss: 0.0117\n",
      "Epoch 90/150\n",
      "6000/6000 [==============================] - 0s 61us/step - loss: 0.0068 - val_loss: 0.0117\n",
      "Epoch 91/150\n",
      "6000/6000 [==============================] - 0s 61us/step - loss: 0.0067 - val_loss: 0.0117\n",
      "Epoch 92/150\n",
      "6000/6000 [==============================] - 0s 62us/step - loss: 0.0067 - val_loss: 0.0116\n",
      "Epoch 93/150\n",
      "6000/6000 [==============================] - 0s 61us/step - loss: 0.0067 - val_loss: 0.0116\n",
      "Epoch 94/150\n",
      "6000/6000 [==============================] - 0s 63us/step - loss: 0.0067 - val_loss: 0.0117\n",
      "Epoch 95/150\n",
      "6000/6000 [==============================] - 0s 61us/step - loss: 0.0067 - val_loss: 0.0116\n",
      "Epoch 96/150\n",
      "6000/6000 [==============================] - 0s 62us/step - loss: 0.0066 - val_loss: 0.0116\n",
      "Epoch 97/150\n",
      "6000/6000 [==============================] - 0s 64us/step - loss: 0.0066 - val_loss: 0.0117\n",
      "Epoch 98/150\n",
      "6000/6000 [==============================] - 0s 62us/step - loss: 0.0066 - val_loss: 0.0116\n",
      "Epoch 99/150\n",
      "6000/6000 [==============================] - 0s 61us/step - loss: 0.0066 - val_loss: 0.0117\n",
      "Epoch 100/150\n",
      "6000/6000 [==============================] - 0s 64us/step - loss: 0.0066 - val_loss: 0.0116\n",
      "Epoch 101/150\n",
      "6000/6000 [==============================] - 0s 62us/step - loss: 0.0065 - val_loss: 0.0116\n",
      "Epoch 102/150\n",
      "6000/6000 [==============================] - 0s 63us/step - loss: 0.0065 - val_loss: 0.0116\n",
      "Epoch 103/150\n",
      "6000/6000 [==============================] - 0s 62us/step - loss: 0.0065 - val_loss: 0.0116\n",
      "Epoch 104/150\n",
      "6000/6000 [==============================] - 0s 63us/step - loss: 0.0065 - val_loss: 0.0116\n",
      "Epoch 105/150\n",
      "6000/6000 [==============================] - 0s 62us/step - loss: 0.0065 - val_loss: 0.0116\n",
      "Epoch 106/150\n",
      "6000/6000 [==============================] - 0s 61us/step - loss: 0.0065 - val_loss: 0.0116\n",
      "Epoch 107/150\n",
      "6000/6000 [==============================] - 0s 62us/step - loss: 0.0065 - val_loss: 0.0116\n",
      "Epoch 108/150\n",
      "6000/6000 [==============================] - 0s 62us/step - loss: 0.0064 - val_loss: 0.0116\n",
      "Epoch 109/150\n",
      "6000/6000 [==============================] - 0s 61us/step - loss: 0.0064 - val_loss: 0.0117\n",
      "Epoch 110/150\n",
      "6000/6000 [==============================] - 0s 66us/step - loss: 0.0064 - val_loss: 0.0116\n",
      "Epoch 111/150\n",
      "6000/6000 [==============================] - 0s 77us/step - loss: 0.0064 - val_loss: 0.0117\n",
      "Epoch 112/150\n",
      "6000/6000 [==============================] - 1s 90us/step - loss: 0.0064 - val_loss: 0.0117\n",
      "Epoch 113/150\n",
      "6000/6000 [==============================] - 1s 88us/step - loss: 0.0064 - val_loss: 0.0117\n",
      "Epoch 114/150\n",
      "6000/6000 [==============================] - 1s 85us/step - loss: 0.0063 - val_loss: 0.0119\n",
      "Epoch 115/150\n",
      "6000/6000 [==============================] - 1s 83us/step - loss: 0.0063 - val_loss: 0.0126\n",
      "Epoch 116/150\n",
      "6000/6000 [==============================] - 1s 104us/step - loss: 0.0063 - val_loss: 0.0118\n",
      "Epoch 117/150\n",
      "6000/6000 [==============================] - 1s 94us/step - loss: 0.0063 - val_loss: 0.0118\n",
      "Epoch 118/150\n",
      "6000/6000 [==============================] - 1s 88us/step - loss: 0.0063 - val_loss: 0.0117\n",
      "Epoch 119/150\n",
      "6000/6000 [==============================] - 0s 71us/step - loss: 0.0063 - val_loss: 0.0118\n",
      "Epoch 120/150\n",
      "6000/6000 [==============================] - 0s 68us/step - loss: 0.0063 - val_loss: 0.0118\n",
      "Epoch 121/150\n",
      "6000/6000 [==============================] - 0s 75us/step - loss: 0.0063 - val_loss: 0.0118\n",
      "Epoch 122/150\n",
      "6000/6000 [==============================] - 0s 64us/step - loss: 0.0063 - val_loss: 0.0118\n",
      "Epoch 123/150\n",
      "6000/6000 [==============================] - 0s 62us/step - loss: 0.0063 - val_loss: 0.0118\n",
      "Epoch 124/150\n",
      "6000/6000 [==============================] - 0s 64us/step - loss: 0.0062 - val_loss: 0.0118\n",
      "Epoch 125/150\n",
      "6000/6000 [==============================] - 0s 62us/step - loss: 0.0062 - val_loss: 0.0119\n",
      "Epoch 126/150\n",
      "6000/6000 [==============================] - 0s 64us/step - loss: 0.0062 - val_loss: 0.0119\n",
      "Epoch 127/150\n",
      "6000/6000 [==============================] - 0s 61us/step - loss: 0.0062 - val_loss: 0.0119\n",
      "Epoch 128/150\n",
      "6000/6000 [==============================] - 0s 61us/step - loss: 0.0062 - val_loss: 0.0118\n",
      "Epoch 129/150\n",
      "6000/6000 [==============================] - 0s 62us/step - loss: 0.0062 - val_loss: 0.0118\n",
      "Epoch 130/150\n",
      "6000/6000 [==============================] - 0s 62us/step - loss: 0.0062 - val_loss: 0.0119\n",
      "Epoch 131/150\n",
      "6000/6000 [==============================] - 0s 68us/step - loss: 0.0062 - val_loss: 0.0118\n",
      "Epoch 132/150\n",
      "6000/6000 [==============================] - 0s 63us/step - loss: 0.0062 - val_loss: 0.0120\n",
      "Epoch 133/150\n",
      "6000/6000 [==============================] - 0s 61us/step - loss: 0.0062 - val_loss: 0.0118\n",
      "Epoch 134/150\n",
      "6000/6000 [==============================] - 0s 61us/step - loss: 0.0062 - val_loss: 0.0118\n",
      "Epoch 135/150\n",
      "6000/6000 [==============================] - 0s 61us/step - loss: 0.0062 - val_loss: 0.0119\n",
      "Epoch 136/150\n",
      "6000/6000 [==============================] - 0s 62us/step - loss: 0.0061 - val_loss: 0.0118\n",
      "Epoch 137/150\n",
      "6000/6000 [==============================] - 0s 62us/step - loss: 0.0061 - val_loss: 0.0120\n",
      "Epoch 138/150\n",
      "6000/6000 [==============================] - 0s 62us/step - loss: 0.0062 - val_loss: 0.0120\n",
      "Epoch 139/150\n",
      "6000/6000 [==============================] - 0s 63us/step - loss: 0.0061 - val_loss: 0.0118\n",
      "Epoch 140/150\n",
      "6000/6000 [==============================] - 0s 61us/step - loss: 0.0061 - val_loss: 0.0121\n",
      "Epoch 141/150\n",
      "6000/6000 [==============================] - 0s 61us/step - loss: 0.0062 - val_loss: 0.0117\n",
      "Epoch 142/150\n",
      "6000/6000 [==============================] - 0s 62us/step - loss: 0.0061 - val_loss: 0.0119\n",
      "Epoch 143/150\n",
      "6000/6000 [==============================] - 0s 64us/step - loss: 0.0061 - val_loss: 0.0120\n",
      "Epoch 144/150\n",
      "6000/6000 [==============================] - 0s 62us/step - loss: 0.0060 - val_loss: 0.0119\n",
      "Epoch 145/150\n",
      "6000/6000 [==============================] - 0s 61us/step - loss: 0.0060 - val_loss: 0.0119\n",
      "Epoch 146/150\n",
      "6000/6000 [==============================] - 0s 63us/step - loss: 0.0060 - val_loss: 0.0119\n",
      "Epoch 147/150\n",
      "6000/6000 [==============================] - 0s 60us/step - loss: 0.0060 - val_loss: 0.0123\n",
      "Epoch 148/150\n"
     ]
    },
    {
     "name": "stdout",
     "output_type": "stream",
     "text": [
      "6000/6000 [==============================] - 0s 60us/step - loss: 0.0060 - val_loss: 0.0118\n",
      "Epoch 149/150\n",
      "6000/6000 [==============================] - 0s 62us/step - loss: 0.0060 - val_loss: 0.0119\n",
      "Epoch 150/150\n",
      "6000/6000 [==============================] - 0s 61us/step - loss: 0.0061 - val_loss: 0.0118\n"
     ]
    }
   ],
   "source": [
    "# fit network\n",
    "history = model.fit(train_X, train_y, epochs=150, batch_size=64, validation_data=(test_X,test_y))"
   ]
  },
  {
   "cell_type": "code",
   "execution_count": 49,
   "metadata": {},
   "outputs": [
    {
     "data": {
      "text/html": [
       "<div>\n",
       "<style scoped>\n",
       "    .dataframe tbody tr th:only-of-type {\n",
       "        vertical-align: middle;\n",
       "    }\n",
       "\n",
       "    .dataframe tbody tr th {\n",
       "        vertical-align: top;\n",
       "    }\n",
       "\n",
       "    .dataframe thead th {\n",
       "        text-align: right;\n",
       "    }\n",
       "</style>\n",
       "<table border=\"1\" class=\"dataframe\">\n",
       "  <thead>\n",
       "    <tr style=\"text-align: right;\">\n",
       "      <th></th>\n",
       "      <th>time</th>\n",
       "      <th>use</th>\n",
       "      <th>Dishwasher</th>\n",
       "      <th>Home office</th>\n",
       "      <th>Fridge</th>\n",
       "      <th>Wine cellar</th>\n",
       "      <th>Garage door</th>\n",
       "      <th>Barn</th>\n",
       "      <th>Well</th>\n",
       "      <th>Microwave</th>\n",
       "      <th>Living room</th>\n",
       "      <th>Solar</th>\n",
       "      <th>Total_Furnace</th>\n",
       "      <th>Average_Kitchen</th>\n",
       "    </tr>\n",
       "  </thead>\n",
       "  <tbody>\n",
       "    <tr>\n",
       "      <td>2016-01-01 05:00:00</td>\n",
       "      <td>1451624400</td>\n",
       "      <td>0.932833</td>\n",
       "      <td>0.000033</td>\n",
       "      <td>0.442633</td>\n",
       "      <td>0.124150</td>\n",
       "      <td>0.006983</td>\n",
       "      <td>0.013083</td>\n",
       "      <td>0.031350</td>\n",
       "      <td>0.001017</td>\n",
       "      <td>0.004067</td>\n",
       "      <td>0.001517</td>\n",
       "      <td>0.003483</td>\n",
       "      <td>0.082617</td>\n",
       "      <td>0.000189</td>\n",
       "    </tr>\n",
       "    <tr>\n",
       "      <td>2016-01-01 05:01:00</td>\n",
       "      <td>1451624401</td>\n",
       "      <td>0.934333</td>\n",
       "      <td>0.000000</td>\n",
       "      <td>0.444067</td>\n",
       "      <td>0.124000</td>\n",
       "      <td>0.006983</td>\n",
       "      <td>0.013117</td>\n",
       "      <td>0.031500</td>\n",
       "      <td>0.001017</td>\n",
       "      <td>0.004067</td>\n",
       "      <td>0.001650</td>\n",
       "      <td>0.003467</td>\n",
       "      <td>0.084533</td>\n",
       "      <td>0.000189</td>\n",
       "    </tr>\n",
       "    <tr>\n",
       "      <td>2016-01-01 05:02:00</td>\n",
       "      <td>1451624402</td>\n",
       "      <td>0.931817</td>\n",
       "      <td>0.000017</td>\n",
       "      <td>0.446067</td>\n",
       "      <td>0.123533</td>\n",
       "      <td>0.006983</td>\n",
       "      <td>0.013083</td>\n",
       "      <td>0.031517</td>\n",
       "      <td>0.001000</td>\n",
       "      <td>0.004067</td>\n",
       "      <td>0.001650</td>\n",
       "      <td>0.003467</td>\n",
       "      <td>0.083017</td>\n",
       "      <td>0.000206</td>\n",
       "    </tr>\n",
       "    <tr>\n",
       "      <td>2016-01-01 05:03:00</td>\n",
       "      <td>1451624403</td>\n",
       "      <td>1.022050</td>\n",
       "      <td>0.000017</td>\n",
       "      <td>0.446583</td>\n",
       "      <td>0.123133</td>\n",
       "      <td>0.006983</td>\n",
       "      <td>0.013000</td>\n",
       "      <td>0.031500</td>\n",
       "      <td>0.001017</td>\n",
       "      <td>0.004067</td>\n",
       "      <td>0.001617</td>\n",
       "      <td>0.003483</td>\n",
       "      <td>0.175417</td>\n",
       "      <td>0.000217</td>\n",
       "    </tr>\n",
       "    <tr>\n",
       "      <td>2016-01-01 05:04:00</td>\n",
       "      <td>1451624404</td>\n",
       "      <td>1.139400</td>\n",
       "      <td>0.000133</td>\n",
       "      <td>0.446533</td>\n",
       "      <td>0.122850</td>\n",
       "      <td>0.006850</td>\n",
       "      <td>0.012783</td>\n",
       "      <td>0.031500</td>\n",
       "      <td>0.001017</td>\n",
       "      <td>0.004067</td>\n",
       "      <td>0.001583</td>\n",
       "      <td>0.003467</td>\n",
       "      <td>0.300917</td>\n",
       "      <td>0.000261</td>\n",
       "    </tr>\n",
       "  </tbody>\n",
       "</table>\n",
       "</div>"
      ],
      "text/plain": [
       "                           time       use  Dishwasher  Home office    Fridge  \\\n",
       "2016-01-01 05:00:00  1451624400  0.932833    0.000033     0.442633  0.124150   \n",
       "2016-01-01 05:01:00  1451624401  0.934333    0.000000     0.444067  0.124000   \n",
       "2016-01-01 05:02:00  1451624402  0.931817    0.000017     0.446067  0.123533   \n",
       "2016-01-01 05:03:00  1451624403  1.022050    0.000017     0.446583  0.123133   \n",
       "2016-01-01 05:04:00  1451624404  1.139400    0.000133     0.446533  0.122850   \n",
       "\n",
       "                     Wine cellar  Garage door      Barn      Well  Microwave  \\\n",
       "2016-01-01 05:00:00     0.006983     0.013083  0.031350  0.001017   0.004067   \n",
       "2016-01-01 05:01:00     0.006983     0.013117  0.031500  0.001017   0.004067   \n",
       "2016-01-01 05:02:00     0.006983     0.013083  0.031517  0.001000   0.004067   \n",
       "2016-01-01 05:03:00     0.006983     0.013000  0.031500  0.001017   0.004067   \n",
       "2016-01-01 05:04:00     0.006850     0.012783  0.031500  0.001017   0.004067   \n",
       "\n",
       "                     Living room     Solar  Total_Furnace  Average_Kitchen  \n",
       "2016-01-01 05:00:00     0.001517  0.003483       0.082617         0.000189  \n",
       "2016-01-01 05:01:00     0.001650  0.003467       0.084533         0.000189  \n",
       "2016-01-01 05:02:00     0.001650  0.003467       0.083017         0.000206  \n",
       "2016-01-01 05:03:00     0.001617  0.003483       0.175417         0.000217  \n",
       "2016-01-01 05:04:00     0.001583  0.003467       0.300917         0.000261  "
      ]
     },
     "execution_count": 49,
     "metadata": {},
     "output_type": "execute_result"
    }
   ],
   "source": [
    "df.head()"
   ]
  },
  {
   "cell_type": "code",
   "execution_count": 50,
   "metadata": {},
   "outputs": [
    {
     "name": "stdout",
     "output_type": "stream",
     "text": [
      "[[0.00979575]]\n"
     ]
    }
   ],
   "source": [
    "import numpy as np\n",
    "from numpy import array\n",
    "test_input = array([0.000033,0.442633,0.124150,0.006983,0.013083,0.031350,0.001017,0.004067,0.001517,0.003483,0.082617,0.000189])\n",
    "test_input = test_input.reshape((1, 1, 12))\n",
    "test_output = model.predict(test_input, verbose=0)\n",
    "output = np.round(test_output[0], 4)\n",
    "print(test_output)"
   ]
  },
  {
   "cell_type": "code",
   "execution_count": 51,
   "metadata": {},
   "outputs": [
    {
     "name": "stdout",
     "output_type": "stream",
     "text": [
      "[[0.00433115]]\n"
     ]
    }
   ],
   "source": [
    "import numpy as np\n",
    "from numpy import array\n",
    "test_input = array([1,1,1,1,1,1,1,1,1,1,1,1])\n",
    "test_input = test_input.reshape((1, 1, 12))\n",
    "test_output = model.predict(test_input, verbose=0)\n",
    "print(test_output)"
   ]
  },
  {
   "cell_type": "code",
   "execution_count": 52,
   "metadata": {
    "scrolled": true
   },
   "outputs": [
    {
     "data": {
      "image/png": "[encoded data removed]",
      "text/plain": [
       "<Figure size 432x288 with 1 Axes>"
      ]
     },
     "metadata": {
      "needs_background": "light"
     },
     "output_type": "display_data"
    }
   ],
   "source": [
    "# summarize history for loss\n",
    "plt.plot(history.history['loss'])\n",
    "plt.plot(history.history['val_loss'])\n",
    "plt.title('model loss')\n",
    "plt.ylabel('loss')\n",
    "plt.xlabel('epoch')\n",
    "plt.legend(['train', 'test'], loc='upper right')\n",
    "plt.show()"
   ]
  },
  {
   "cell_type": "code",
   "execution_count": 56,
   "metadata": {},
   "outputs": [
    {
     "data": {
      "text/plain": [
       "array([[0.00974748],\n",
       "       [0.01306027],\n",
       "       [0.01005968],\n",
       "       ...,\n",
       "       [0.02797485],\n",
       "       [0.00896064],\n",
       "       [0.00767029]], dtype=float32)"
      ]
     },
     "execution_count": 56,
     "metadata": {},
     "output_type": "execute_result"
    }
   ],
   "source": [
    "# make a prediction\n",
    "yhat = model.predict(test_X)\n",
    "yhat"
   ]
  },
  {
   "cell_type": "code",
   "execution_count": 57,
   "metadata": {},
   "outputs": [
    {
     "data": {
      "text/plain": [
       "array([[4.27513262e-02, 1.12716044e-03, 9.57991645e-02, ...,\n",
       "        4.66727445e-03, 5.06257556e-03, 7.07415699e-02],\n",
       "       [5.33284672e-02, 3.07897385e-04, 9.47534664e-02, ...,\n",
       "        6.48034292e-03, 5.01364220e-03, 7.07401542e-02],\n",
       "       [4.55798540e-02, 3.20361608e-04, 9.81114534e-02, ...,\n",
       "        4.67658398e-03, 5.04728400e-03, 7.09182984e-02],\n",
       "       ...,\n",
       "       [1.33180240e-01, 7.21066106e-05, 6.24589420e-02, ...,\n",
       "        3.45080392e-03, 7.14224850e-03, 6.75895306e-01],\n",
       "       [1.31473015e-01, 1.21277242e-04, 6.27736102e-02, ...,\n",
       "        3.56329637e-03, 7.20188611e-03, 6.99179797e-01],\n",
       "       [1.14783732e-01, 1.03423832e-04, 6.27415182e-02, ...,\n",
       "        3.54622867e-03, 7.24419333e-03, 6.00036845e-01]])"
      ]
     },
     "execution_count": 57,
     "metadata": {},
     "output_type": "execute_result"
    }
   ],
   "source": [
    "x_test = test_X.reshape((test_X.shape[0],12))\n",
    "x_test"
   ]
  },
  {
   "cell_type": "code",
   "execution_count": 58,
   "metadata": {},
   "outputs": [],
   "source": [
    "from sklearn.preprocessing import StandardScaler # for normalization\n",
    "from sklearn.preprocessing import MinMaxScaler\n",
    "## * Note: I scale all features in range of [0,1].\n",
    "\n",
    "## If you would like to train based on the resampled data (over hour), then used below\n",
    "values = df.values \n",
    "\n",
    "scaler = MinMaxScaler(feature_range=(0, 1))\n",
    "scaled = scaler.fit_transform(values)\n",
    "# frame as supervised learning\n",
    "#reframed = series_to_supervised(scaled, 1, 1)\n",
    "#print(reframed.head())"
   ]
  },
  {
   "cell_type": "code",
   "execution_count": 65,
   "metadata": {},
   "outputs": [],
   "source": [
    "model.save('Energy.h5')"
   ]
  },
  {
   "cell_type": "code",
   "execution_count": null,
   "metadata": {},
   "outputs": [],
   "source": []
  }
 ],
 "metadata": {
  "kernelspec": {
   "display_name": "Python 3",
   "language": "python",
   "name": "python3"
  },
  "language_info": {
   "codemirror_mode": {
    "name": "ipython",
    "version": 3
   },
   "file_extension": ".py",
   "mimetype": "text/x-python",
   "name": "python",
   "nbconvert_exporter": "python",
   "pygments_lexer": "ipython3",
   "version": "3.7.4"
  }
 },
 "nbformat": 4,
 "nbformat_minor": 1
}
